{
 "cells": [
  {
   "cell_type": "markdown",
   "id": "7689499a",
   "metadata": {},
   "source": [
    "# 3. Research\n",
    "In this notebook I prepared data that will used in classes and methods further.\n",
    "\n"
   ]
  },
  {
   "cell_type": "markdown",
   "id": "b420e3b1",
   "metadata": {},
   "source": [
    "### 0. Импорты"
   ]
  },
  {
   "cell_type": "code",
   "execution_count": 2,
   "id": "1d6ed547",
   "metadata": {},
   "outputs": [],
   "source": [
    "import pandas as pd\n",
    "import numpy as np\n",
    "\n",
    "from sklearn.model_selection import (train_test_split,\n",
    "                                     KFold,\n",
    "                                    cross_val_score,\n",
    "                                    StratifiedKFold,\n",
    "                                    GridSearchCV)\n",
    "from sklearn.linear_model import (LogisticRegression, \n",
    "                                  LinearRegression)\n",
    "from sklearn.svm import SVC\n",
    "from sklearn.tree import DecisionTreeClassifier\n",
    "from sklearn.tree import DecisionTreeRegressor\n",
    "from sklearn.ensemble import (RandomForestRegressor, \n",
    "                              VotingRegressor, \n",
    "                              BaggingRegressor, \n",
    "                              StackingRegressor)\n",
    "from sklearn.ensemble import (RandomForestClassifier,\n",
    "                              VotingClassifier, \n",
    "                              BaggingClassifier,\n",
    "                             StackingClassifier)\n",
    "from sklearn.metrics import (accuracy_score, \n",
    "                             confusion_matrix, \n",
    "                             classification_report, \n",
    "                             mean_squared_error,\n",
    "                            f1_score,\n",
    "                            precision_score,\n",
    "                            recall_score)\n",
    "import math\n",
    "import joblib\n",
    "import requests\n",
    "import json\n",
    "import time\n",
    "\n",
    "from urllib import request\n",
    "from urllib.error import HTTPError, URLError\n",
    "from bs4 import BeautifulSoup\n",
    "import unidecode\n",
    "\n",
    "import warnings\n",
    "warnings.filterwarnings('ignore')"
   ]
  },
  {
   "cell_type": "markdown",
   "id": "f773b6b7",
   "metadata": {},
   "source": [
    "## 3.1 Прогноз"
   ]
  },
  {
   "cell_type": "markdown",
   "id": "1fc64510",
   "metadata": {},
   "source": [
    "### 1. Подготовка данных\n",
    "\n",
    "* Используем датасет из Epicurious, подготовленный HugoDarwood\n",
    "* Отфильтруем поля: удалим как можно больше столбцов, которые не относятся к названиями ингридиентов. Будете прогнозировать оценку или категорию оценки, используя только ингридиенты и ничего больше. Если модель обучится на других данных, которые не будут передаваться на вход, то точность прогнозов будет заведомо ниже.\n"
   ]
  },
  {
   "cell_type": "code",
   "execution_count": 5,
   "id": "9aad63f4",
   "metadata": {},
   "outputs": [],
   "source": [
    "#dataset downloaded from https://www.kaggle.com/datasets/hugodarwood/epirecipes/code?select=epi_r.csv\n",
    "df_raw = pd.read_csv('data/epi_r.csv') "
   ]
  },
  {
   "cell_type": "code",
   "execution_count": 3,
   "id": "a328953f",
   "metadata": {},
   "outputs": [
    {
     "name": "stdout",
     "output_type": "stream",
     "text": [
      "<class 'pandas.core.frame.DataFrame'>\n",
      "RangeIndex: 20052 entries, 0 to 20051\n",
      "Columns: 680 entries, title to turkey\n",
      "dtypes: float64(679), object(1)\n",
      "memory usage: 104.0+ MB\n"
     ]
    }
   ],
   "source": [
    "df_raw.info()"
   ]
  },
  {
   "cell_type": "markdown",
   "id": "766d68cb",
   "metadata": {},
   "source": [
    "Удаляем полные дубли из датасета"
   ]
  },
  {
   "cell_type": "code",
   "execution_count": 4,
   "id": "1def3e03",
   "metadata": {},
   "outputs": [],
   "source": [
    "df_raw.drop_duplicates(['title', 'rating'], keep='first', inplace=True)"
   ]
  },
  {
   "cell_type": "code",
   "execution_count": 5,
   "id": "5121cb82",
   "metadata": {},
   "outputs": [
    {
     "name": "stdout",
     "output_type": "stream",
     "text": [
      "<class 'pandas.core.frame.DataFrame'>\n",
      "Int64Index: 18033 entries, 0 to 20051\n",
      "Columns: 680 entries, title to turkey\n",
      "dtypes: float64(679), object(1)\n",
      "memory usage: 93.7+ MB\n"
     ]
    }
   ],
   "source": [
    "df_raw.info()"
   ]
  },
  {
   "cell_type": "code",
   "execution_count": 6,
   "id": "db5e5919",
   "metadata": {},
   "outputs": [
    {
     "data": {
      "text/plain": [
       "(18033, 680)"
      ]
     },
     "execution_count": 6,
     "metadata": {},
     "output_type": "execute_result"
    }
   ],
   "source": [
    "df_raw.shape"
   ]
  },
  {
   "cell_type": "code",
   "execution_count": 7,
   "id": "8d9bb4b5",
   "metadata": {},
   "outputs": [],
   "source": [
    "df = df_raw.copy()"
   ]
  },
  {
   "cell_type": "code",
   "execution_count": 8,
   "id": "10784b3a",
   "metadata": {},
   "outputs": [],
   "source": [
    "list1 = ['calories', 'protein', 'fat', 'sodium',]\n",
    "df.drop(list1, axis=1, inplace=True, errors='ignore')"
   ]
  },
  {
   "cell_type": "code",
   "execution_count": 9,
   "id": "90f778e4",
   "metadata": {},
   "outputs": [],
   "source": [
    "list2 = [ '#cakeweek', '#wasteless', '22-minute meals', \n",
    "         '3-ingredient recipes', '30 days of groceries', 'advance prep required', 'alabama', 'alaska', 'alcoholic', \n",
    "         'anniversary', 'cookbooks', 'leftovers', 'snack', 'snack week', 'anthony bourdain', 'aperitif', 'appetizer', \n",
    "         'winter', 'wisconsin', 'wok', 'yonkers', 'yuca', 'arizona', 'windsor', 'back to school', 'backyard bbq', \n",
    "         'bastille day', 'blender', 'boil', 'bon appétit', 'bon app��tit', 'boston','braise', 'beverly hills', \n",
    "         'birthday', 'australia', 'broil', 'breakfast', 'brooklyn', 'brunch', 'tested & improved', 'texas', 'thanksgiving',\n",
    "        'utah', \"valentine's day\", 'vegetarian', 'washington', 'washington, d.c.', 'westwood', 'tennessee', 'wedding', \n",
    "         'weelicious', 'west virginia', 'switzerland', 'california', 'camping', 'christmas', 'christmas eve',\n",
    "        'georgia', 'friendsgiving','game', 'condiment/spread', 'connecticut', 'cook like a diner', 'cookbook critic', 'self', \n",
    "         'side', 'simmer', 'skewer','slow cooker', 'smoker', 'smoothie', 'snapper', 'soufflé/meringue', 'soup/stew',  \n",
    "         'south carolina', 'soy free', 'spring', 'st. louis', \"st. patrick's day\",   'stew', 'stir-fry',  'sugar conscious', \n",
    "        'stuffing/dressing', 'summer', 'super bowl', 'suzanne goin',  'virginia','san francisco', 'sandwich', \n",
    "         'sandwich theory', 'santa monica', 'atlanta', 'bake', 'buffet', 'bulgaria', 'burrito', 'cake', 'cambridge', 'canada',\n",
    "         'candy thermometer', 'casserole/gratin',  'cinco de mayo',  'cobbler/crumble', 'cocktail', 'costa mesa', 'cuba', \n",
    "         'cupcake','dairy', 'dairy free', 'dallas',   'deep-fry', 'denver', 'dessert', 'digestif', 'dinner','diwali',\n",
    "         'dominican republic', 'dorie greenspan', 'double boiler','drink', 'drinks', 'easter', 'eau de vie', 'edible gift',\n",
    "         'egypt', 'emeril lagasse','endive', 'engagement party', 'england', 'entertaining', 'epi + ushg',\n",
    "         'epi loves the microwave', 'escarole', 'fall', 'family reunion','fat free', \"father's day\", 'flaming hot summer', \n",
    "         'florida', 'fontina', 'food processor','fourth of july', 'france', 'frangelico', 'frankenrecipe', 'freeze/chill', \n",
    "         'freezer food', 'frittata', 'frozen dessert',  'fry', 'germany', 'gourmet', 'graduation', 'grill', 'grill/barbecue', \n",
    "         'haiti', 'halloween', 'hamburger',  'hanukkah', 'harpercollins', 'hawaii', 'healdsburg','healthy',  'high fiber', \n",
    "         'hollywood', 'hot drink', 'house & garden', 'house cocktail', 'houston',  'ice cream machine', 'iced coffee', \n",
    "         'iced tea', 'idaho',   'illinois', 'indiana', 'iowa', 'ireland', 'israel', 'italy',  'jamaica', 'japan',  'juicer',  \n",
    "         'kansas', 'kansas city', 'kentucky', 'kentucky derby', 'kid-friendly', 'kidney friendly',  'kitchen olympics', \n",
    "         'kosher', 'kosher for passover',  'labor day', 'lancaster', 'las vegas', 'london',   'long beach', 'los angeles', \n",
    "         'louisiana', 'louisville', 'low cal', 'low carb', 'low cholesterol', 'low fat', 'low sodium', 'low sugar',        \n",
    "         'low/no sugar', 'lunar new year', 'lunch',  'macaroni and cheese', 'maine', 'fruit', 'vegetable', 'tropical fruit', \n",
    "        'seafood', 'nut',]\n",
    "df.drop(list2, axis=1, inplace=True, errors='ignore')"
   ]
  },
  {
   "cell_type": "code",
   "execution_count": 10,
   "id": "08b1416a",
   "metadata": {},
   "outputs": [],
   "source": [
    "list3 = ['mardi gras', 'margarita', 'marinade', 'marinate', 'maryland', 'massachusetts', 'mexico', 'miami',  'michigan', \n",
    "         'microwave', 'minneapolis', 'minnesota', 'mississippi', 'missouri', 'mixer',  'mortar and pestle', \"mother's day\", \n",
    "        'muffin',  'new hampshire',  'new jersey', 'new mexico', 'new orleans', \"new year's day\", \"new year's eve\", \n",
    "         'new york', 'no meat, no problem', 'no sugar added', 'no-cook', 'non-alcoholic','north carolina',  \n",
    "         'nancy silverton', 'nebraska', 'ohio', 'oklahoma', 'oktoberfest', 'omelet', 'one-pot meal', 'oregon', \n",
    "         'organic', 'pan-fry', 'pancake',  'parade', 'paris', 'pasadena', 'passover',  'pasta maker',  'peanut free', \n",
    "         'pennsylvania', 'persian new year', 'pescatarian', 'philippines','picnic', 'pie',  'pittsburgh', 'pizza',\n",
    "        'poker/game night',  'portland', 'pot pie',  'potato salad', 'potluck', 'pressure cooker', 'providence', 'purim', \n",
    "         'quick & easy', 'quick and healthy', 'ramadan', 'raw', 'rhode island', 'ramekin', 'roast',  'rosh hashanah/yom kippur',\n",
    "        'seattle',  'shower', 'spain',  'steam', 'sukkot', 'tart',  'tree nut free',  'vegan', 'wheat/gluten-free', 'buffalo', \n",
    "         'chicago','chill', 'colorado', 'columbus', 'rub',  'cr��me de cacao', 'oscars', 'party', 'pastry', 'paleo', \n",
    "         'sauté', 'brownie', 'cocktail party', 'coffee grinder', 'fritter', \"hors d'oeuvre\", 'kwanzaa', 'pacific palisades',\n",
    "        'poppy', 'quiche', 'shavuot', 'sourdough', 'vermont', 'crêpe', 'dip', 'chile','peru',]\n",
    "df.drop(list3, axis=1, inplace=True, errors='ignore')"
   ]
  },
  {
   "cell_type": "code",
   "execution_count": 11,
   "id": "46b07c8d",
   "metadata": {},
   "outputs": [],
   "source": [
    "list4 = ['amaretto', 'apple juice', 'whiskey',  'bourbon', 'brandy', \n",
    "        'calvados', 'campari', 'chambord', 'champagne', 'chartreuse', 'coffee', 'cognac/armagnac',\n",
    "         'fortified wine', 'fruit juice', 'grand marnier', 'grappa', 'jícama', 'kahlúa',\n",
    "         'kirsch', 'lemon juice', 'lime juice', 'liqueur', 'marsala', 'martini', 'mezcal', 'midori',\n",
    "         'orange juice', 'pomegranate juice', 'rosé', 'sake',  'sangria',\n",
    "         'scotch', 'sherry',  'sparkling wine','spirit', 'spritzer','sugar snap pea','tea', 'tequila',\n",
    "         'triple sec','vermouth','créme de cacao','beer','bitters', \n",
    "        ]\n",
    "df.drop(list4, axis=1, inplace=True, errors='ignore')"
   ]
  },
  {
   "cell_type": "code",
   "execution_count": 12,
   "id": "20a25f09",
   "metadata": {},
   "outputs": [],
   "source": [
    "list5 = ['candy','cookie', 'cookies', 'cranberry sauce', 'flat bread', 'meatball','sauce','soy sauce','spice','waffle',\n",
    "         'hominy/cornmeal/masa','halibut', 'mandoline','aspen', ]\n",
    "df.drop(list5, axis=1, inplace=True, errors='ignore')"
   ]
  },
  {
   "cell_type": "code",
   "execution_count": 13,
   "id": "347e4791",
   "metadata": {},
   "outputs": [],
   "source": [
    "#заменим названия\n",
    "df.rename(columns = {\n",
    "'milk/cream' : 'milk',\n",
    "'green onion/scallion' : 'green onion', \n",
    "'butterscotch/caramel' : 'butterscotch',\n",
    "'phyllo/puff pastry dough' : 'phyllo',\n",
    "'jam or jelly' : 'jam',\n",
    "'jalapeño' : 'jalapeno', \n",
    "'marscarpone' : 'mascarpone', \n",
    "'sweet potato/yam' : 'sweet potato'\n",
    "                     }, inplace = True)"
   ]
  },
  {
   "cell_type": "code",
   "execution_count": 14,
   "id": "80d1faa0",
   "metadata": {},
   "outputs": [],
   "source": [
    "df.to_csv('data/dataset_clean.csv', index='title')\n",
    "df.drop(['title'], axis=1, inplace=True, errors='ignore')"
   ]
  },
  {
   "cell_type": "code",
   "execution_count": 15,
   "id": "85946eca",
   "metadata": {},
   "outputs": [
    {
     "data": {
      "text/html": [
       "<div>\n",
       "<style scoped>\n",
       "    .dataframe tbody tr th:only-of-type {\n",
       "        vertical-align: middle;\n",
       "    }\n",
       "\n",
       "    .dataframe tbody tr th {\n",
       "        vertical-align: top;\n",
       "    }\n",
       "\n",
       "    .dataframe thead th {\n",
       "        text-align: right;\n",
       "    }\n",
       "</style>\n",
       "<table border=\"1\" class=\"dataframe\">\n",
       "  <thead>\n",
       "    <tr style=\"text-align: right;\">\n",
       "      <th></th>\n",
       "      <th>rating</th>\n",
       "      <th>almond</th>\n",
       "      <th>anchovy</th>\n",
       "      <th>anise</th>\n",
       "      <th>apple</th>\n",
       "      <th>apricot</th>\n",
       "      <th>artichoke</th>\n",
       "      <th>arugula</th>\n",
       "      <th>asian pear</th>\n",
       "      <th>asparagus</th>\n",
       "      <th>...</th>\n",
       "      <th>watercress</th>\n",
       "      <th>watermelon</th>\n",
       "      <th>white wine</th>\n",
       "      <th>whole wheat</th>\n",
       "      <th>wild rice</th>\n",
       "      <th>wine</th>\n",
       "      <th>yellow squash</th>\n",
       "      <th>yogurt</th>\n",
       "      <th>zucchini</th>\n",
       "      <th>turkey</th>\n",
       "    </tr>\n",
       "  </thead>\n",
       "  <tbody>\n",
       "    <tr>\n",
       "      <th>0</th>\n",
       "      <td>2.500</td>\n",
       "      <td>0.0</td>\n",
       "      <td>0.0</td>\n",
       "      <td>0.0</td>\n",
       "      <td>1.0</td>\n",
       "      <td>0.0</td>\n",
       "      <td>0.0</td>\n",
       "      <td>0.0</td>\n",
       "      <td>0.0</td>\n",
       "      <td>0.0</td>\n",
       "      <td>...</td>\n",
       "      <td>0.0</td>\n",
       "      <td>0.0</td>\n",
       "      <td>0.0</td>\n",
       "      <td>0.0</td>\n",
       "      <td>0.0</td>\n",
       "      <td>0.0</td>\n",
       "      <td>0.0</td>\n",
       "      <td>0.0</td>\n",
       "      <td>0.0</td>\n",
       "      <td>1.0</td>\n",
       "    </tr>\n",
       "    <tr>\n",
       "      <th>1</th>\n",
       "      <td>4.375</td>\n",
       "      <td>0.0</td>\n",
       "      <td>0.0</td>\n",
       "      <td>0.0</td>\n",
       "      <td>0.0</td>\n",
       "      <td>0.0</td>\n",
       "      <td>0.0</td>\n",
       "      <td>0.0</td>\n",
       "      <td>0.0</td>\n",
       "      <td>0.0</td>\n",
       "      <td>...</td>\n",
       "      <td>0.0</td>\n",
       "      <td>0.0</td>\n",
       "      <td>0.0</td>\n",
       "      <td>0.0</td>\n",
       "      <td>0.0</td>\n",
       "      <td>0.0</td>\n",
       "      <td>0.0</td>\n",
       "      <td>0.0</td>\n",
       "      <td>0.0</td>\n",
       "      <td>0.0</td>\n",
       "    </tr>\n",
       "    <tr>\n",
       "      <th>2</th>\n",
       "      <td>3.750</td>\n",
       "      <td>0.0</td>\n",
       "      <td>0.0</td>\n",
       "      <td>0.0</td>\n",
       "      <td>0.0</td>\n",
       "      <td>0.0</td>\n",
       "      <td>0.0</td>\n",
       "      <td>0.0</td>\n",
       "      <td>0.0</td>\n",
       "      <td>0.0</td>\n",
       "      <td>...</td>\n",
       "      <td>0.0</td>\n",
       "      <td>0.0</td>\n",
       "      <td>0.0</td>\n",
       "      <td>0.0</td>\n",
       "      <td>0.0</td>\n",
       "      <td>0.0</td>\n",
       "      <td>0.0</td>\n",
       "      <td>0.0</td>\n",
       "      <td>0.0</td>\n",
       "      <td>0.0</td>\n",
       "    </tr>\n",
       "    <tr>\n",
       "      <th>3</th>\n",
       "      <td>5.000</td>\n",
       "      <td>0.0</td>\n",
       "      <td>0.0</td>\n",
       "      <td>0.0</td>\n",
       "      <td>0.0</td>\n",
       "      <td>0.0</td>\n",
       "      <td>0.0</td>\n",
       "      <td>0.0</td>\n",
       "      <td>0.0</td>\n",
       "      <td>0.0</td>\n",
       "      <td>...</td>\n",
       "      <td>0.0</td>\n",
       "      <td>0.0</td>\n",
       "      <td>0.0</td>\n",
       "      <td>0.0</td>\n",
       "      <td>0.0</td>\n",
       "      <td>0.0</td>\n",
       "      <td>0.0</td>\n",
       "      <td>0.0</td>\n",
       "      <td>0.0</td>\n",
       "      <td>0.0</td>\n",
       "    </tr>\n",
       "    <tr>\n",
       "      <th>4</th>\n",
       "      <td>3.125</td>\n",
       "      <td>0.0</td>\n",
       "      <td>0.0</td>\n",
       "      <td>0.0</td>\n",
       "      <td>0.0</td>\n",
       "      <td>0.0</td>\n",
       "      <td>0.0</td>\n",
       "      <td>0.0</td>\n",
       "      <td>0.0</td>\n",
       "      <td>0.0</td>\n",
       "      <td>...</td>\n",
       "      <td>0.0</td>\n",
       "      <td>0.0</td>\n",
       "      <td>0.0</td>\n",
       "      <td>0.0</td>\n",
       "      <td>0.0</td>\n",
       "      <td>0.0</td>\n",
       "      <td>0.0</td>\n",
       "      <td>0.0</td>\n",
       "      <td>0.0</td>\n",
       "      <td>0.0</td>\n",
       "    </tr>\n",
       "    <tr>\n",
       "      <th>...</th>\n",
       "      <td>...</td>\n",
       "      <td>...</td>\n",
       "      <td>...</td>\n",
       "      <td>...</td>\n",
       "      <td>...</td>\n",
       "      <td>...</td>\n",
       "      <td>...</td>\n",
       "      <td>...</td>\n",
       "      <td>...</td>\n",
       "      <td>...</td>\n",
       "      <td>...</td>\n",
       "      <td>...</td>\n",
       "      <td>...</td>\n",
       "      <td>...</td>\n",
       "      <td>...</td>\n",
       "      <td>...</td>\n",
       "      <td>...</td>\n",
       "      <td>...</td>\n",
       "      <td>...</td>\n",
       "      <td>...</td>\n",
       "      <td>...</td>\n",
       "    </tr>\n",
       "    <tr>\n",
       "      <th>20047</th>\n",
       "      <td>3.125</td>\n",
       "      <td>0.0</td>\n",
       "      <td>0.0</td>\n",
       "      <td>0.0</td>\n",
       "      <td>0.0</td>\n",
       "      <td>0.0</td>\n",
       "      <td>0.0</td>\n",
       "      <td>0.0</td>\n",
       "      <td>0.0</td>\n",
       "      <td>0.0</td>\n",
       "      <td>...</td>\n",
       "      <td>0.0</td>\n",
       "      <td>0.0</td>\n",
       "      <td>0.0</td>\n",
       "      <td>0.0</td>\n",
       "      <td>0.0</td>\n",
       "      <td>0.0</td>\n",
       "      <td>0.0</td>\n",
       "      <td>0.0</td>\n",
       "      <td>0.0</td>\n",
       "      <td>0.0</td>\n",
       "    </tr>\n",
       "    <tr>\n",
       "      <th>20048</th>\n",
       "      <td>4.375</td>\n",
       "      <td>0.0</td>\n",
       "      <td>0.0</td>\n",
       "      <td>0.0</td>\n",
       "      <td>0.0</td>\n",
       "      <td>0.0</td>\n",
       "      <td>1.0</td>\n",
       "      <td>0.0</td>\n",
       "      <td>0.0</td>\n",
       "      <td>0.0</td>\n",
       "      <td>...</td>\n",
       "      <td>0.0</td>\n",
       "      <td>0.0</td>\n",
       "      <td>0.0</td>\n",
       "      <td>0.0</td>\n",
       "      <td>0.0</td>\n",
       "      <td>0.0</td>\n",
       "      <td>0.0</td>\n",
       "      <td>0.0</td>\n",
       "      <td>0.0</td>\n",
       "      <td>0.0</td>\n",
       "    </tr>\n",
       "    <tr>\n",
       "      <th>20049</th>\n",
       "      <td>4.375</td>\n",
       "      <td>0.0</td>\n",
       "      <td>0.0</td>\n",
       "      <td>0.0</td>\n",
       "      <td>0.0</td>\n",
       "      <td>0.0</td>\n",
       "      <td>0.0</td>\n",
       "      <td>0.0</td>\n",
       "      <td>0.0</td>\n",
       "      <td>0.0</td>\n",
       "      <td>...</td>\n",
       "      <td>0.0</td>\n",
       "      <td>0.0</td>\n",
       "      <td>0.0</td>\n",
       "      <td>0.0</td>\n",
       "      <td>0.0</td>\n",
       "      <td>0.0</td>\n",
       "      <td>0.0</td>\n",
       "      <td>0.0</td>\n",
       "      <td>0.0</td>\n",
       "      <td>1.0</td>\n",
       "    </tr>\n",
       "    <tr>\n",
       "      <th>20050</th>\n",
       "      <td>4.375</td>\n",
       "      <td>0.0</td>\n",
       "      <td>0.0</td>\n",
       "      <td>0.0</td>\n",
       "      <td>0.0</td>\n",
       "      <td>0.0</td>\n",
       "      <td>0.0</td>\n",
       "      <td>0.0</td>\n",
       "      <td>0.0</td>\n",
       "      <td>0.0</td>\n",
       "      <td>...</td>\n",
       "      <td>0.0</td>\n",
       "      <td>0.0</td>\n",
       "      <td>0.0</td>\n",
       "      <td>0.0</td>\n",
       "      <td>0.0</td>\n",
       "      <td>0.0</td>\n",
       "      <td>0.0</td>\n",
       "      <td>0.0</td>\n",
       "      <td>0.0</td>\n",
       "      <td>0.0</td>\n",
       "    </tr>\n",
       "    <tr>\n",
       "      <th>20051</th>\n",
       "      <td>4.375</td>\n",
       "      <td>0.0</td>\n",
       "      <td>0.0</td>\n",
       "      <td>0.0</td>\n",
       "      <td>0.0</td>\n",
       "      <td>0.0</td>\n",
       "      <td>0.0</td>\n",
       "      <td>0.0</td>\n",
       "      <td>0.0</td>\n",
       "      <td>0.0</td>\n",
       "      <td>...</td>\n",
       "      <td>0.0</td>\n",
       "      <td>0.0</td>\n",
       "      <td>0.0</td>\n",
       "      <td>0.0</td>\n",
       "      <td>0.0</td>\n",
       "      <td>0.0</td>\n",
       "      <td>0.0</td>\n",
       "      <td>0.0</td>\n",
       "      <td>0.0</td>\n",
       "      <td>0.0</td>\n",
       "    </tr>\n",
       "  </tbody>\n",
       "</table>\n",
       "<p>18033 rows × 293 columns</p>\n",
       "</div>"
      ],
      "text/plain": [
       "       rating  almond  anchovy  anise  apple  apricot  artichoke  arugula  \\\n",
       "0       2.500     0.0      0.0    0.0    1.0      0.0        0.0      0.0   \n",
       "1       4.375     0.0      0.0    0.0    0.0      0.0        0.0      0.0   \n",
       "2       3.750     0.0      0.0    0.0    0.0      0.0        0.0      0.0   \n",
       "3       5.000     0.0      0.0    0.0    0.0      0.0        0.0      0.0   \n",
       "4       3.125     0.0      0.0    0.0    0.0      0.0        0.0      0.0   \n",
       "...       ...     ...      ...    ...    ...      ...        ...      ...   \n",
       "20047   3.125     0.0      0.0    0.0    0.0      0.0        0.0      0.0   \n",
       "20048   4.375     0.0      0.0    0.0    0.0      0.0        1.0      0.0   \n",
       "20049   4.375     0.0      0.0    0.0    0.0      0.0        0.0      0.0   \n",
       "20050   4.375     0.0      0.0    0.0    0.0      0.0        0.0      0.0   \n",
       "20051   4.375     0.0      0.0    0.0    0.0      0.0        0.0      0.0   \n",
       "\n",
       "       asian pear  asparagus  ...  watercress  watermelon  white wine  \\\n",
       "0             0.0        0.0  ...         0.0         0.0         0.0   \n",
       "1             0.0        0.0  ...         0.0         0.0         0.0   \n",
       "2             0.0        0.0  ...         0.0         0.0         0.0   \n",
       "3             0.0        0.0  ...         0.0         0.0         0.0   \n",
       "4             0.0        0.0  ...         0.0         0.0         0.0   \n",
       "...           ...        ...  ...         ...         ...         ...   \n",
       "20047         0.0        0.0  ...         0.0         0.0         0.0   \n",
       "20048         0.0        0.0  ...         0.0         0.0         0.0   \n",
       "20049         0.0        0.0  ...         0.0         0.0         0.0   \n",
       "20050         0.0        0.0  ...         0.0         0.0         0.0   \n",
       "20051         0.0        0.0  ...         0.0         0.0         0.0   \n",
       "\n",
       "       whole wheat  wild rice  wine  yellow squash  yogurt  zucchini  turkey  \n",
       "0              0.0        0.0   0.0            0.0     0.0       0.0     1.0  \n",
       "1              0.0        0.0   0.0            0.0     0.0       0.0     0.0  \n",
       "2              0.0        0.0   0.0            0.0     0.0       0.0     0.0  \n",
       "3              0.0        0.0   0.0            0.0     0.0       0.0     0.0  \n",
       "4              0.0        0.0   0.0            0.0     0.0       0.0     0.0  \n",
       "...            ...        ...   ...            ...     ...       ...     ...  \n",
       "20047          0.0        0.0   0.0            0.0     0.0       0.0     0.0  \n",
       "20048          0.0        0.0   0.0            0.0     0.0       0.0     0.0  \n",
       "20049          0.0        0.0   0.0            0.0     0.0       0.0     1.0  \n",
       "20050          0.0        0.0   0.0            0.0     0.0       0.0     0.0  \n",
       "20051          0.0        0.0   0.0            0.0     0.0       0.0     0.0  \n",
       "\n",
       "[18033 rows x 293 columns]"
      ]
     },
     "execution_count": 15,
     "metadata": {},
     "output_type": "execute_result"
    }
   ],
   "source": [
    "df"
   ]
  },
  {
   "cell_type": "code",
   "execution_count": 17,
   "id": "7ce758f6",
   "metadata": {},
   "outputs": [
    {
     "name": "stdout",
     "output_type": "stream",
     "text": [
      "<class 'pandas.core.frame.DataFrame'>\n",
      "Int64Index: 18033 entries, 0 to 20051\n",
      "Columns: 293 entries, rating to turkey\n",
      "dtypes: float64(293)\n",
      "memory usage: 40.4 MB\n"
     ]
    }
   ],
   "source": [
    "df.info()"
   ]
  },
  {
   "cell_type": "markdown",
   "id": "a2b4c95a",
   "metadata": {},
   "source": [
    "### Удаляем пустые рецепты (там где rating есть, а колонка с признаком удалена)"
   ]
  },
  {
   "cell_type": "code",
   "execution_count": 18,
   "id": "7c33cf85",
   "metadata": {},
   "outputs": [],
   "source": [
    "df_cut = df.T"
   ]
  },
  {
   "cell_type": "code",
   "execution_count": 19,
   "id": "03d60541",
   "metadata": {},
   "outputs": [
    {
     "data": {
      "text/html": [
       "<div>\n",
       "<style scoped>\n",
       "    .dataframe tbody tr th:only-of-type {\n",
       "        vertical-align: middle;\n",
       "    }\n",
       "\n",
       "    .dataframe tbody tr th {\n",
       "        vertical-align: top;\n",
       "    }\n",
       "\n",
       "    .dataframe thead th {\n",
       "        text-align: right;\n",
       "    }\n",
       "</style>\n",
       "<table border=\"1\" class=\"dataframe\">\n",
       "  <thead>\n",
       "    <tr style=\"text-align: right;\">\n",
       "      <th></th>\n",
       "      <th>0</th>\n",
       "      <th>1</th>\n",
       "      <th>2</th>\n",
       "      <th>3</th>\n",
       "      <th>4</th>\n",
       "      <th>5</th>\n",
       "      <th>6</th>\n",
       "      <th>7</th>\n",
       "      <th>8</th>\n",
       "      <th>9</th>\n",
       "      <th>...</th>\n",
       "      <th>20038</th>\n",
       "      <th>20040</th>\n",
       "      <th>20043</th>\n",
       "      <th>20044</th>\n",
       "      <th>20046</th>\n",
       "      <th>20047</th>\n",
       "      <th>20048</th>\n",
       "      <th>20049</th>\n",
       "      <th>20050</th>\n",
       "      <th>20051</th>\n",
       "    </tr>\n",
       "  </thead>\n",
       "  <tbody>\n",
       "    <tr>\n",
       "      <th>rating</th>\n",
       "      <td>True</td>\n",
       "      <td>True</td>\n",
       "      <td>True</td>\n",
       "      <td>True</td>\n",
       "      <td>True</td>\n",
       "      <td>True</td>\n",
       "      <td>True</td>\n",
       "      <td>True</td>\n",
       "      <td>True</td>\n",
       "      <td>True</td>\n",
       "      <td>...</td>\n",
       "      <td>True</td>\n",
       "      <td>True</td>\n",
       "      <td>True</td>\n",
       "      <td>True</td>\n",
       "      <td>True</td>\n",
       "      <td>True</td>\n",
       "      <td>True</td>\n",
       "      <td>True</td>\n",
       "      <td>True</td>\n",
       "      <td>True</td>\n",
       "    </tr>\n",
       "    <tr>\n",
       "      <th>almond</th>\n",
       "      <td>False</td>\n",
       "      <td>False</td>\n",
       "      <td>False</td>\n",
       "      <td>False</td>\n",
       "      <td>False</td>\n",
       "      <td>False</td>\n",
       "      <td>False</td>\n",
       "      <td>False</td>\n",
       "      <td>False</td>\n",
       "      <td>False</td>\n",
       "      <td>...</td>\n",
       "      <td>False</td>\n",
       "      <td>False</td>\n",
       "      <td>False</td>\n",
       "      <td>False</td>\n",
       "      <td>False</td>\n",
       "      <td>False</td>\n",
       "      <td>False</td>\n",
       "      <td>False</td>\n",
       "      <td>False</td>\n",
       "      <td>False</td>\n",
       "    </tr>\n",
       "    <tr>\n",
       "      <th>anchovy</th>\n",
       "      <td>False</td>\n",
       "      <td>False</td>\n",
       "      <td>False</td>\n",
       "      <td>False</td>\n",
       "      <td>False</td>\n",
       "      <td>False</td>\n",
       "      <td>False</td>\n",
       "      <td>False</td>\n",
       "      <td>False</td>\n",
       "      <td>False</td>\n",
       "      <td>...</td>\n",
       "      <td>False</td>\n",
       "      <td>False</td>\n",
       "      <td>False</td>\n",
       "      <td>False</td>\n",
       "      <td>False</td>\n",
       "      <td>False</td>\n",
       "      <td>False</td>\n",
       "      <td>False</td>\n",
       "      <td>False</td>\n",
       "      <td>False</td>\n",
       "    </tr>\n",
       "    <tr>\n",
       "      <th>anise</th>\n",
       "      <td>False</td>\n",
       "      <td>False</td>\n",
       "      <td>False</td>\n",
       "      <td>False</td>\n",
       "      <td>False</td>\n",
       "      <td>False</td>\n",
       "      <td>False</td>\n",
       "      <td>False</td>\n",
       "      <td>False</td>\n",
       "      <td>False</td>\n",
       "      <td>...</td>\n",
       "      <td>False</td>\n",
       "      <td>False</td>\n",
       "      <td>False</td>\n",
       "      <td>False</td>\n",
       "      <td>False</td>\n",
       "      <td>False</td>\n",
       "      <td>False</td>\n",
       "      <td>False</td>\n",
       "      <td>False</td>\n",
       "      <td>False</td>\n",
       "    </tr>\n",
       "    <tr>\n",
       "      <th>apple</th>\n",
       "      <td>True</td>\n",
       "      <td>False</td>\n",
       "      <td>False</td>\n",
       "      <td>False</td>\n",
       "      <td>False</td>\n",
       "      <td>False</td>\n",
       "      <td>False</td>\n",
       "      <td>False</td>\n",
       "      <td>False</td>\n",
       "      <td>False</td>\n",
       "      <td>...</td>\n",
       "      <td>False</td>\n",
       "      <td>False</td>\n",
       "      <td>False</td>\n",
       "      <td>False</td>\n",
       "      <td>False</td>\n",
       "      <td>False</td>\n",
       "      <td>False</td>\n",
       "      <td>False</td>\n",
       "      <td>False</td>\n",
       "      <td>False</td>\n",
       "    </tr>\n",
       "    <tr>\n",
       "      <th>...</th>\n",
       "      <td>...</td>\n",
       "      <td>...</td>\n",
       "      <td>...</td>\n",
       "      <td>...</td>\n",
       "      <td>...</td>\n",
       "      <td>...</td>\n",
       "      <td>...</td>\n",
       "      <td>...</td>\n",
       "      <td>...</td>\n",
       "      <td>...</td>\n",
       "      <td>...</td>\n",
       "      <td>...</td>\n",
       "      <td>...</td>\n",
       "      <td>...</td>\n",
       "      <td>...</td>\n",
       "      <td>...</td>\n",
       "      <td>...</td>\n",
       "      <td>...</td>\n",
       "      <td>...</td>\n",
       "      <td>...</td>\n",
       "      <td>...</td>\n",
       "    </tr>\n",
       "    <tr>\n",
       "      <th>wine</th>\n",
       "      <td>False</td>\n",
       "      <td>False</td>\n",
       "      <td>False</td>\n",
       "      <td>False</td>\n",
       "      <td>False</td>\n",
       "      <td>False</td>\n",
       "      <td>False</td>\n",
       "      <td>False</td>\n",
       "      <td>False</td>\n",
       "      <td>False</td>\n",
       "      <td>...</td>\n",
       "      <td>False</td>\n",
       "      <td>False</td>\n",
       "      <td>False</td>\n",
       "      <td>False</td>\n",
       "      <td>False</td>\n",
       "      <td>False</td>\n",
       "      <td>False</td>\n",
       "      <td>False</td>\n",
       "      <td>False</td>\n",
       "      <td>False</td>\n",
       "    </tr>\n",
       "    <tr>\n",
       "      <th>yellow squash</th>\n",
       "      <td>False</td>\n",
       "      <td>False</td>\n",
       "      <td>False</td>\n",
       "      <td>False</td>\n",
       "      <td>False</td>\n",
       "      <td>False</td>\n",
       "      <td>False</td>\n",
       "      <td>False</td>\n",
       "      <td>False</td>\n",
       "      <td>False</td>\n",
       "      <td>...</td>\n",
       "      <td>False</td>\n",
       "      <td>False</td>\n",
       "      <td>False</td>\n",
       "      <td>False</td>\n",
       "      <td>False</td>\n",
       "      <td>False</td>\n",
       "      <td>False</td>\n",
       "      <td>False</td>\n",
       "      <td>False</td>\n",
       "      <td>False</td>\n",
       "    </tr>\n",
       "    <tr>\n",
       "      <th>yogurt</th>\n",
       "      <td>False</td>\n",
       "      <td>False</td>\n",
       "      <td>False</td>\n",
       "      <td>False</td>\n",
       "      <td>False</td>\n",
       "      <td>False</td>\n",
       "      <td>False</td>\n",
       "      <td>False</td>\n",
       "      <td>False</td>\n",
       "      <td>False</td>\n",
       "      <td>...</td>\n",
       "      <td>False</td>\n",
       "      <td>False</td>\n",
       "      <td>False</td>\n",
       "      <td>False</td>\n",
       "      <td>False</td>\n",
       "      <td>False</td>\n",
       "      <td>False</td>\n",
       "      <td>False</td>\n",
       "      <td>False</td>\n",
       "      <td>False</td>\n",
       "    </tr>\n",
       "    <tr>\n",
       "      <th>zucchini</th>\n",
       "      <td>False</td>\n",
       "      <td>False</td>\n",
       "      <td>False</td>\n",
       "      <td>False</td>\n",
       "      <td>False</td>\n",
       "      <td>False</td>\n",
       "      <td>False</td>\n",
       "      <td>False</td>\n",
       "      <td>False</td>\n",
       "      <td>False</td>\n",
       "      <td>...</td>\n",
       "      <td>False</td>\n",
       "      <td>False</td>\n",
       "      <td>False</td>\n",
       "      <td>False</td>\n",
       "      <td>False</td>\n",
       "      <td>False</td>\n",
       "      <td>False</td>\n",
       "      <td>False</td>\n",
       "      <td>False</td>\n",
       "      <td>False</td>\n",
       "    </tr>\n",
       "    <tr>\n",
       "      <th>turkey</th>\n",
       "      <td>True</td>\n",
       "      <td>False</td>\n",
       "      <td>False</td>\n",
       "      <td>False</td>\n",
       "      <td>False</td>\n",
       "      <td>False</td>\n",
       "      <td>False</td>\n",
       "      <td>False</td>\n",
       "      <td>False</td>\n",
       "      <td>False</td>\n",
       "      <td>...</td>\n",
       "      <td>False</td>\n",
       "      <td>False</td>\n",
       "      <td>False</td>\n",
       "      <td>False</td>\n",
       "      <td>False</td>\n",
       "      <td>False</td>\n",
       "      <td>False</td>\n",
       "      <td>True</td>\n",
       "      <td>False</td>\n",
       "      <td>False</td>\n",
       "    </tr>\n",
       "  </tbody>\n",
       "</table>\n",
       "<p>293 rows × 18033 columns</p>\n",
       "</div>"
      ],
      "text/plain": [
       "               0      1      2      3      4      5      6      7      8      \\\n",
       "rating          True   True   True   True   True   True   True   True   True   \n",
       "almond         False  False  False  False  False  False  False  False  False   \n",
       "anchovy        False  False  False  False  False  False  False  False  False   \n",
       "anise          False  False  False  False  False  False  False  False  False   \n",
       "apple           True  False  False  False  False  False  False  False  False   \n",
       "...              ...    ...    ...    ...    ...    ...    ...    ...    ...   \n",
       "wine           False  False  False  False  False  False  False  False  False   \n",
       "yellow squash  False  False  False  False  False  False  False  False  False   \n",
       "yogurt         False  False  False  False  False  False  False  False  False   \n",
       "zucchini       False  False  False  False  False  False  False  False  False   \n",
       "turkey          True  False  False  False  False  False  False  False  False   \n",
       "\n",
       "               9      ...  20038  20040  20043  20044  20046  20047  20048  \\\n",
       "rating          True  ...   True   True   True   True   True   True   True   \n",
       "almond         False  ...  False  False  False  False  False  False  False   \n",
       "anchovy        False  ...  False  False  False  False  False  False  False   \n",
       "anise          False  ...  False  False  False  False  False  False  False   \n",
       "apple          False  ...  False  False  False  False  False  False  False   \n",
       "...              ...  ...    ...    ...    ...    ...    ...    ...    ...   \n",
       "wine           False  ...  False  False  False  False  False  False  False   \n",
       "yellow squash  False  ...  False  False  False  False  False  False  False   \n",
       "yogurt         False  ...  False  False  False  False  False  False  False   \n",
       "zucchini       False  ...  False  False  False  False  False  False  False   \n",
       "turkey         False  ...  False  False  False  False  False  False  False   \n",
       "\n",
       "               20049  20050  20051  \n",
       "rating          True   True   True  \n",
       "almond         False  False  False  \n",
       "anchovy        False  False  False  \n",
       "anise          False  False  False  \n",
       "apple          False  False  False  \n",
       "...              ...    ...    ...  \n",
       "wine           False  False  False  \n",
       "yellow squash  False  False  False  \n",
       "yogurt         False  False  False  \n",
       "zucchini       False  False  False  \n",
       "turkey          True  False  False  \n",
       "\n",
       "[293 rows x 18033 columns]"
      ]
     },
     "execution_count": 19,
     "metadata": {},
     "output_type": "execute_result"
    }
   ],
   "source": [
    "df_cut != 0"
   ]
  },
  {
   "cell_type": "code",
   "execution_count": 20,
   "id": "812d6dd7",
   "metadata": {},
   "outputs": [
    {
     "data": {
      "text/plain": [
       "(17942, 293)"
      ]
     },
     "execution_count": 20,
     "metadata": {},
     "output_type": "execute_result"
    }
   ],
   "source": [
    "(df_cut != 0).any(axis=0)\n",
    "#df_cut.loc[:, (df_cut != 0).any(axis=0)]\n",
    "df_cut = df_cut.loc[:, (df_cut != 0).any(axis=0)]\n",
    "df_cut = df_cut.T\n",
    "df_cut.shape"
   ]
  },
  {
   "cell_type": "code",
   "execution_count": 21,
   "id": "ae29b19a",
   "metadata": {},
   "outputs": [],
   "source": [
    "y = df_cut['rating']"
   ]
  },
  {
   "cell_type": "code",
   "execution_count": 22,
   "id": "82ac67d8",
   "metadata": {},
   "outputs": [],
   "source": [
    "df_cut2 = df_cut.copy()\n",
    "df_cut2.drop('rating', axis=1, inplace=True, errors='ignore')\n",
    "X = df_cut2"
   ]
  },
  {
   "cell_type": "code",
   "execution_count": 24,
   "id": "5a9039da",
   "metadata": {},
   "outputs": [],
   "source": [
    "X_train, X_test, y_train, y_test = train_test_split(X, y, \n",
    "                                                    test_size=0.2, \n",
    "                                                    random_state=21, \n",
    "                                                    stratify=y)"
   ]
  },
  {
   "cell_type": "markdown",
   "id": "d26716cc",
   "metadata": {},
   "source": [
    "### 2. Регрессия\n",
    "\n",
    "* Для прогнозирования рейтинга опробуем различные алгоритмы и их гиперпараметры. Выберем лучшее решение на основе кроссвалидации и оценим RMSE на тестовой подвыборке."
   ]
  },
  {
   "cell_type": "markdown",
   "id": "3c0799d6",
   "metadata": {},
   "source": [
    "### 2.1 Linear Regression"
   ]
  },
  {
   "cell_type": "code",
   "execution_count": 25,
   "id": "6702a840",
   "metadata": {},
   "outputs": [
    {
     "data": {
      "text/plain": [
       "-5.552083783739233e+23"
      ]
     },
     "execution_count": 25,
     "metadata": {},
     "output_type": "execute_result"
    }
   ],
   "source": [
    "lr1 = LinearRegression(fit_intercept=False)\n",
    "cross_val_score(lr1, X_train, y_train, cv=10, scoring='neg_mean_squared_error').mean()"
   ]
  },
  {
   "cell_type": "code",
   "execution_count": 26,
   "id": "6a211eda",
   "metadata": {},
   "outputs": [
    {
     "data": {
      "text/plain": [
       "-5.98874033398359e+22"
      ]
     },
     "execution_count": 26,
     "metadata": {},
     "output_type": "execute_result"
    }
   ],
   "source": [
    "lr2 = LinearRegression(fit_intercept=True)\n",
    "cross_val_score(lr2, X_train, y_train, cv=10, scoring='neg_mean_squared_error').mean()"
   ]
  },
  {
   "cell_type": "code",
   "execution_count": 27,
   "id": "2facb2d0",
   "metadata": {},
   "outputs": [],
   "source": [
    "lr_best_reg = lr2"
   ]
  },
  {
   "cell_type": "markdown",
   "id": "0b4f2aa7",
   "metadata": {},
   "source": [
    "### 2.2 Decision Tree Regression"
   ]
  },
  {
   "cell_type": "code",
   "execution_count": 28,
   "id": "9bea3fd9",
   "metadata": {},
   "outputs": [],
   "source": [
    "tree_params = dict(max_depth=range(10,60, 20),\n",
    "                 max_features = range(10,60,20),\n",
    "                 min_samples_split= [2,6,10],\n",
    "                          random_state=[21])"
   ]
  },
  {
   "cell_type": "code",
   "execution_count": 29,
   "id": "31988798",
   "metadata": {},
   "outputs": [
    {
     "data": {
      "text/html": [
       "<style>#sk-container-id-1 {color: black;background-color: white;}#sk-container-id-1 pre{padding: 0;}#sk-container-id-1 div.sk-toggleable {background-color: white;}#sk-container-id-1 label.sk-toggleable__label {cursor: pointer;display: block;width: 100%;margin-bottom: 0;padding: 0.3em;box-sizing: border-box;text-align: center;}#sk-container-id-1 label.sk-toggleable__label-arrow:before {content: \"▸\";float: left;margin-right: 0.25em;color: #696969;}#sk-container-id-1 label.sk-toggleable__label-arrow:hover:before {color: black;}#sk-container-id-1 div.sk-estimator:hover label.sk-toggleable__label-arrow:before {color: black;}#sk-container-id-1 div.sk-toggleable__content {max-height: 0;max-width: 0;overflow: hidden;text-align: left;background-color: #f0f8ff;}#sk-container-id-1 div.sk-toggleable__content pre {margin: 0.2em;color: black;border-radius: 0.25em;background-color: #f0f8ff;}#sk-container-id-1 input.sk-toggleable__control:checked~div.sk-toggleable__content {max-height: 200px;max-width: 100%;overflow: auto;}#sk-container-id-1 input.sk-toggleable__control:checked~label.sk-toggleable__label-arrow:before {content: \"▾\";}#sk-container-id-1 div.sk-estimator input.sk-toggleable__control:checked~label.sk-toggleable__label {background-color: #d4ebff;}#sk-container-id-1 div.sk-label input.sk-toggleable__control:checked~label.sk-toggleable__label {background-color: #d4ebff;}#sk-container-id-1 input.sk-hidden--visually {border: 0;clip: rect(1px 1px 1px 1px);clip: rect(1px, 1px, 1px, 1px);height: 1px;margin: -1px;overflow: hidden;padding: 0;position: absolute;width: 1px;}#sk-container-id-1 div.sk-estimator {font-family: monospace;background-color: #f0f8ff;border: 1px dotted black;border-radius: 0.25em;box-sizing: border-box;margin-bottom: 0.5em;}#sk-container-id-1 div.sk-estimator:hover {background-color: #d4ebff;}#sk-container-id-1 div.sk-parallel-item::after {content: \"\";width: 100%;border-bottom: 1px solid gray;flex-grow: 1;}#sk-container-id-1 div.sk-label:hover label.sk-toggleable__label {background-color: #d4ebff;}#sk-container-id-1 div.sk-serial::before {content: \"\";position: absolute;border-left: 1px solid gray;box-sizing: border-box;top: 0;bottom: 0;left: 50%;z-index: 0;}#sk-container-id-1 div.sk-serial {display: flex;flex-direction: column;align-items: center;background-color: white;padding-right: 0.2em;padding-left: 0.2em;position: relative;}#sk-container-id-1 div.sk-item {position: relative;z-index: 1;}#sk-container-id-1 div.sk-parallel {display: flex;align-items: stretch;justify-content: center;background-color: white;position: relative;}#sk-container-id-1 div.sk-item::before, #sk-container-id-1 div.sk-parallel-item::before {content: \"\";position: absolute;border-left: 1px solid gray;box-sizing: border-box;top: 0;bottom: 0;left: 50%;z-index: -1;}#sk-container-id-1 div.sk-parallel-item {display: flex;flex-direction: column;z-index: 1;position: relative;background-color: white;}#sk-container-id-1 div.sk-parallel-item:first-child::after {align-self: flex-end;width: 50%;}#sk-container-id-1 div.sk-parallel-item:last-child::after {align-self: flex-start;width: 50%;}#sk-container-id-1 div.sk-parallel-item:only-child::after {width: 0;}#sk-container-id-1 div.sk-dashed-wrapped {border: 1px dashed gray;margin: 0 0.4em 0.5em 0.4em;box-sizing: border-box;padding-bottom: 0.4em;background-color: white;}#sk-container-id-1 div.sk-label label {font-family: monospace;font-weight: bold;display: inline-block;line-height: 1.2em;}#sk-container-id-1 div.sk-label-container {text-align: center;}#sk-container-id-1 div.sk-container {/* jupyter's `normalize.less` sets `[hidden] { display: none; }` but bootstrap.min.css set `[hidden] { display: none !important; }` so we also need the `!important` here to be able to override the default hidden behavior on the sphinx rendered scikit-learn.org. See: https://github.com/scikit-learn/scikit-learn/issues/21755 */display: inline-block !important;position: relative;}#sk-container-id-1 div.sk-text-repr-fallback {display: none;}</style><div id=\"sk-container-id-1\" class=\"sk-top-container\"><div class=\"sk-text-repr-fallback\"><pre>GridSearchCV(estimator=DecisionTreeRegressor(), n_jobs=-1,\n",
       "             param_grid={&#x27;max_depth&#x27;: range(10, 60, 20),\n",
       "                         &#x27;max_features&#x27;: range(10, 60, 20),\n",
       "                         &#x27;min_samples_split&#x27;: [2, 6, 10],\n",
       "                         &#x27;random_state&#x27;: [21]},\n",
       "             return_train_score=True)</pre><b>In a Jupyter environment, please rerun this cell to show the HTML representation or trust the notebook. <br />On GitHub, the HTML representation is unable to render, please try loading this page with nbviewer.org.</b></div><div class=\"sk-container\" hidden><div class=\"sk-item sk-dashed-wrapped\"><div class=\"sk-label-container\"><div class=\"sk-label sk-toggleable\"><input class=\"sk-toggleable__control sk-hidden--visually\" id=\"sk-estimator-id-1\" type=\"checkbox\" ><label for=\"sk-estimator-id-1\" class=\"sk-toggleable__label sk-toggleable__label-arrow\">GridSearchCV</label><div class=\"sk-toggleable__content\"><pre>GridSearchCV(estimator=DecisionTreeRegressor(), n_jobs=-1,\n",
       "             param_grid={&#x27;max_depth&#x27;: range(10, 60, 20),\n",
       "                         &#x27;max_features&#x27;: range(10, 60, 20),\n",
       "                         &#x27;min_samples_split&#x27;: [2, 6, 10],\n",
       "                         &#x27;random_state&#x27;: [21]},\n",
       "             return_train_score=True)</pre></div></div></div><div class=\"sk-parallel\"><div class=\"sk-parallel-item\"><div class=\"sk-item\"><div class=\"sk-label-container\"><div class=\"sk-label sk-toggleable\"><input class=\"sk-toggleable__control sk-hidden--visually\" id=\"sk-estimator-id-2\" type=\"checkbox\" ><label for=\"sk-estimator-id-2\" class=\"sk-toggleable__label sk-toggleable__label-arrow\">estimator: DecisionTreeRegressor</label><div class=\"sk-toggleable__content\"><pre>DecisionTreeRegressor()</pre></div></div></div><div class=\"sk-serial\"><div class=\"sk-item\"><div class=\"sk-estimator sk-toggleable\"><input class=\"sk-toggleable__control sk-hidden--visually\" id=\"sk-estimator-id-3\" type=\"checkbox\" ><label for=\"sk-estimator-id-3\" class=\"sk-toggleable__label sk-toggleable__label-arrow\">DecisionTreeRegressor</label><div class=\"sk-toggleable__content\"><pre>DecisionTreeRegressor()</pre></div></div></div></div></div></div></div></div></div></div>"
      ],
      "text/plain": [
       "GridSearchCV(estimator=DecisionTreeRegressor(), n_jobs=-1,\n",
       "             param_grid={'max_depth': range(10, 60, 20),\n",
       "                         'max_features': range(10, 60, 20),\n",
       "                         'min_samples_split': [2, 6, 10],\n",
       "                         'random_state': [21]},\n",
       "             return_train_score=True)"
      ]
     },
     "execution_count": 29,
     "metadata": {},
     "output_type": "execute_result"
    }
   ],
   "source": [
    "tree = DecisionTreeRegressor()\n",
    "grid_tree = GridSearchCV(tree, tree_params, n_jobs=-1, return_train_score = True)\n",
    "grid_tree.fit(X_train, y_train)"
   ]
  },
  {
   "cell_type": "code",
   "execution_count": 30,
   "id": "90a4254f",
   "metadata": {},
   "outputs": [
    {
     "data": {
      "text/plain": [
       "{'max_depth': 10,\n",
       " 'max_features': 50,\n",
       " 'min_samples_split': 10,\n",
       " 'random_state': 21}"
      ]
     },
     "execution_count": 30,
     "metadata": {},
     "output_type": "execute_result"
    }
   ],
   "source": [
    "grid_tree.best_params_"
   ]
  },
  {
   "cell_type": "code",
   "execution_count": 31,
   "id": "2c861e4f",
   "metadata": {},
   "outputs": [
    {
     "data": {
      "text/plain": [
       "-1.6204873017076082"
      ]
     },
     "execution_count": 31,
     "metadata": {},
     "output_type": "execute_result"
    }
   ],
   "source": [
    "tree_best_reg=DecisionTreeRegressor(**grid_tree.best_params_)\n",
    "cross_val_score(tree_best_reg, X_train, y_train, cv=10, scoring='neg_mean_squared_error').mean()"
   ]
  },
  {
   "cell_type": "markdown",
   "id": "f03c4b5a",
   "metadata": {},
   "source": [
    "### 2.3 Random Forest Regression"
   ]
  },
  {
   "cell_type": "code",
   "execution_count": 32,
   "id": "5fae2d96",
   "metadata": {},
   "outputs": [],
   "source": [
    "forest_params = dict(n_estimators=[5,10,50,100],\n",
    "                 max_depth = range(10,60,20),\n",
    "                 max_features = range(10,60,20),\n",
    "                 random_state=[21])"
   ]
  },
  {
   "cell_type": "code",
   "execution_count": 33,
   "id": "daf70cef",
   "metadata": {},
   "outputs": [
    {
     "data": {
      "text/html": [
       "<style>#sk-container-id-2 {color: black;background-color: white;}#sk-container-id-2 pre{padding: 0;}#sk-container-id-2 div.sk-toggleable {background-color: white;}#sk-container-id-2 label.sk-toggleable__label {cursor: pointer;display: block;width: 100%;margin-bottom: 0;padding: 0.3em;box-sizing: border-box;text-align: center;}#sk-container-id-2 label.sk-toggleable__label-arrow:before {content: \"▸\";float: left;margin-right: 0.25em;color: #696969;}#sk-container-id-2 label.sk-toggleable__label-arrow:hover:before {color: black;}#sk-container-id-2 div.sk-estimator:hover label.sk-toggleable__label-arrow:before {color: black;}#sk-container-id-2 div.sk-toggleable__content {max-height: 0;max-width: 0;overflow: hidden;text-align: left;background-color: #f0f8ff;}#sk-container-id-2 div.sk-toggleable__content pre {margin: 0.2em;color: black;border-radius: 0.25em;background-color: #f0f8ff;}#sk-container-id-2 input.sk-toggleable__control:checked~div.sk-toggleable__content {max-height: 200px;max-width: 100%;overflow: auto;}#sk-container-id-2 input.sk-toggleable__control:checked~label.sk-toggleable__label-arrow:before {content: \"▾\";}#sk-container-id-2 div.sk-estimator input.sk-toggleable__control:checked~label.sk-toggleable__label {background-color: #d4ebff;}#sk-container-id-2 div.sk-label input.sk-toggleable__control:checked~label.sk-toggleable__label {background-color: #d4ebff;}#sk-container-id-2 input.sk-hidden--visually {border: 0;clip: rect(1px 1px 1px 1px);clip: rect(1px, 1px, 1px, 1px);height: 1px;margin: -1px;overflow: hidden;padding: 0;position: absolute;width: 1px;}#sk-container-id-2 div.sk-estimator {font-family: monospace;background-color: #f0f8ff;border: 1px dotted black;border-radius: 0.25em;box-sizing: border-box;margin-bottom: 0.5em;}#sk-container-id-2 div.sk-estimator:hover {background-color: #d4ebff;}#sk-container-id-2 div.sk-parallel-item::after {content: \"\";width: 100%;border-bottom: 1px solid gray;flex-grow: 1;}#sk-container-id-2 div.sk-label:hover label.sk-toggleable__label {background-color: #d4ebff;}#sk-container-id-2 div.sk-serial::before {content: \"\";position: absolute;border-left: 1px solid gray;box-sizing: border-box;top: 0;bottom: 0;left: 50%;z-index: 0;}#sk-container-id-2 div.sk-serial {display: flex;flex-direction: column;align-items: center;background-color: white;padding-right: 0.2em;padding-left: 0.2em;position: relative;}#sk-container-id-2 div.sk-item {position: relative;z-index: 1;}#sk-container-id-2 div.sk-parallel {display: flex;align-items: stretch;justify-content: center;background-color: white;position: relative;}#sk-container-id-2 div.sk-item::before, #sk-container-id-2 div.sk-parallel-item::before {content: \"\";position: absolute;border-left: 1px solid gray;box-sizing: border-box;top: 0;bottom: 0;left: 50%;z-index: -1;}#sk-container-id-2 div.sk-parallel-item {display: flex;flex-direction: column;z-index: 1;position: relative;background-color: white;}#sk-container-id-2 div.sk-parallel-item:first-child::after {align-self: flex-end;width: 50%;}#sk-container-id-2 div.sk-parallel-item:last-child::after {align-self: flex-start;width: 50%;}#sk-container-id-2 div.sk-parallel-item:only-child::after {width: 0;}#sk-container-id-2 div.sk-dashed-wrapped {border: 1px dashed gray;margin: 0 0.4em 0.5em 0.4em;box-sizing: border-box;padding-bottom: 0.4em;background-color: white;}#sk-container-id-2 div.sk-label label {font-family: monospace;font-weight: bold;display: inline-block;line-height: 1.2em;}#sk-container-id-2 div.sk-label-container {text-align: center;}#sk-container-id-2 div.sk-container {/* jupyter's `normalize.less` sets `[hidden] { display: none; }` but bootstrap.min.css set `[hidden] { display: none !important; }` so we also need the `!important` here to be able to override the default hidden behavior on the sphinx rendered scikit-learn.org. See: https://github.com/scikit-learn/scikit-learn/issues/21755 */display: inline-block !important;position: relative;}#sk-container-id-2 div.sk-text-repr-fallback {display: none;}</style><div id=\"sk-container-id-2\" class=\"sk-top-container\"><div class=\"sk-text-repr-fallback\"><pre>GridSearchCV(cv=10, estimator=RandomForestRegressor(), n_jobs=-1,\n",
       "             param_grid={&#x27;max_depth&#x27;: range(10, 60, 20),\n",
       "                         &#x27;max_features&#x27;: range(10, 60, 20),\n",
       "                         &#x27;n_estimators&#x27;: [5, 10, 50, 100],\n",
       "                         &#x27;random_state&#x27;: [21]},\n",
       "             return_train_score=True)</pre><b>In a Jupyter environment, please rerun this cell to show the HTML representation or trust the notebook. <br />On GitHub, the HTML representation is unable to render, please try loading this page with nbviewer.org.</b></div><div class=\"sk-container\" hidden><div class=\"sk-item sk-dashed-wrapped\"><div class=\"sk-label-container\"><div class=\"sk-label sk-toggleable\"><input class=\"sk-toggleable__control sk-hidden--visually\" id=\"sk-estimator-id-4\" type=\"checkbox\" ><label for=\"sk-estimator-id-4\" class=\"sk-toggleable__label sk-toggleable__label-arrow\">GridSearchCV</label><div class=\"sk-toggleable__content\"><pre>GridSearchCV(cv=10, estimator=RandomForestRegressor(), n_jobs=-1,\n",
       "             param_grid={&#x27;max_depth&#x27;: range(10, 60, 20),\n",
       "                         &#x27;max_features&#x27;: range(10, 60, 20),\n",
       "                         &#x27;n_estimators&#x27;: [5, 10, 50, 100],\n",
       "                         &#x27;random_state&#x27;: [21]},\n",
       "             return_train_score=True)</pre></div></div></div><div class=\"sk-parallel\"><div class=\"sk-parallel-item\"><div class=\"sk-item\"><div class=\"sk-label-container\"><div class=\"sk-label sk-toggleable\"><input class=\"sk-toggleable__control sk-hidden--visually\" id=\"sk-estimator-id-5\" type=\"checkbox\" ><label for=\"sk-estimator-id-5\" class=\"sk-toggleable__label sk-toggleable__label-arrow\">estimator: RandomForestRegressor</label><div class=\"sk-toggleable__content\"><pre>RandomForestRegressor()</pre></div></div></div><div class=\"sk-serial\"><div class=\"sk-item\"><div class=\"sk-estimator sk-toggleable\"><input class=\"sk-toggleable__control sk-hidden--visually\" id=\"sk-estimator-id-6\" type=\"checkbox\" ><label for=\"sk-estimator-id-6\" class=\"sk-toggleable__label sk-toggleable__label-arrow\">RandomForestRegressor</label><div class=\"sk-toggleable__content\"><pre>RandomForestRegressor()</pre></div></div></div></div></div></div></div></div></div></div>"
      ],
      "text/plain": [
       "GridSearchCV(cv=10, estimator=RandomForestRegressor(), n_jobs=-1,\n",
       "             param_grid={'max_depth': range(10, 60, 20),\n",
       "                         'max_features': range(10, 60, 20),\n",
       "                         'n_estimators': [5, 10, 50, 100],\n",
       "                         'random_state': [21]},\n",
       "             return_train_score=True)"
      ]
     },
     "execution_count": 33,
     "metadata": {},
     "output_type": "execute_result"
    }
   ],
   "source": [
    "forest=RandomForestRegressor()\n",
    "grid_forest = GridSearchCV(forest, forest_params, cv=10, n_jobs=-1, return_train_score = True)\n",
    "grid_forest.fit(X_train, y_train)"
   ]
  },
  {
   "cell_type": "code",
   "execution_count": 34,
   "id": "7ea99cb2",
   "metadata": {},
   "outputs": [
    {
     "data": {
      "text/plain": [
       "{'max_depth': 30, 'max_features': 10, 'n_estimators': 100, 'random_state': 21}"
      ]
     },
     "execution_count": 34,
     "metadata": {},
     "output_type": "execute_result"
    }
   ],
   "source": [
    "grid_forest.best_params_"
   ]
  },
  {
   "cell_type": "code",
   "execution_count": 35,
   "id": "acebf517",
   "metadata": {},
   "outputs": [
    {
     "data": {
      "text/plain": [
       "-1.5670708678177263"
      ]
     },
     "execution_count": 35,
     "metadata": {},
     "output_type": "execute_result"
    }
   ],
   "source": [
    "forest_best_reg = RandomForestRegressor(**grid_forest.best_params_)\n",
    "cross_val_score(forest_best_reg, X_train, y_train, cv=10, scoring='neg_mean_squared_error').mean()"
   ]
  },
  {
   "cell_type": "markdown",
   "id": "8df4dd88",
   "metadata": {},
   "source": [
    "Лучшая модель на основе кроссвалидации - Random Forest"
   ]
  },
  {
   "cell_type": "code",
   "execution_count": 36,
   "id": "3f5660a3",
   "metadata": {},
   "outputs": [
    {
     "name": "stdout",
     "output_type": "stream",
     "text": [
      "Mean Square Error:  1.5609618676495118\n",
      "Root Mean Square Error:  1.24938459557076\n"
     ]
    }
   ],
   "source": [
    "forest_best_reg.fit(X_train, y_train)\n",
    "y_pred = forest_best_reg.predict(X_test)\n",
    "MSE = mean_squared_error(y_test, y_pred)\n",
    "\n",
    "RMSE = math.sqrt(MSE)\n",
    "print(\"Mean Square Error: \", MSE)\n",
    "print(\"Root Mean Square Error: \", RMSE)"
   ]
  },
  {
   "cell_type": "markdown",
   "id": "409e7b54",
   "metadata": {},
   "source": [
    "* Попробуем различные ансамбли и их гиперпараметры. Выберем лучшее решение на основе кроссвалидации и оценим RMSE на тестовой подвыборке."
   ]
  },
  {
   "cell_type": "markdown",
   "id": "ff05c9fa",
   "metadata": {},
   "source": [
    "### Voting Regressor"
   ]
  },
  {
   "cell_type": "code",
   "execution_count": 37,
   "id": "37113608",
   "metadata": {},
   "outputs": [
    {
     "data": {
      "text/plain": [
       "-6.654155926651068e+21"
      ]
     },
     "execution_count": 37,
     "metadata": {},
     "output_type": "execute_result"
    }
   ],
   "source": [
    "estimators = [('lr', lr_best_reg), ('tree', tree_best_reg), ('rfc', forest_best_reg)]\n",
    "voting = VotingRegressor(estimators=estimators)\n",
    "cross_val_score(voting, X_train, y_train, cv=10, scoring='neg_mean_squared_error').mean()"
   ]
  },
  {
   "cell_type": "code",
   "execution_count": 38,
   "id": "cbfaaf7d",
   "metadata": {},
   "outputs": [
    {
     "data": {
      "text/plain": [
       "-9.581984534376588e+21"
      ]
     },
     "execution_count": 38,
     "metadata": {},
     "output_type": "execute_result"
    }
   ],
   "source": [
    "voting2=VotingRegressor(estimators=estimators, weights=(2,1,2))\n",
    "cross_val_score(voting2, X_train, y_train, cv=10, scoring='neg_mean_squared_error').mean()"
   ]
  },
  {
   "cell_type": "code",
   "execution_count": 39,
   "id": "dfed5d39",
   "metadata": {},
   "outputs": [
    {
     "data": {
      "text/plain": [
       "-4.88876761958086e+21"
      ]
     },
     "execution_count": 39,
     "metadata": {},
     "output_type": "execute_result"
    }
   ],
   "source": [
    "voting3=VotingRegressor(estimators=estimators, weights=(2,1,4))\n",
    "cross_val_score(voting3, X_train, y_train, cv=10, scoring='neg_mean_squared_error').mean()"
   ]
  },
  {
   "cell_type": "code",
   "execution_count": 40,
   "id": "e5fc31c0",
   "metadata": {},
   "outputs": [
    {
     "data": {
      "text/plain": [
       "-1.663538981663755e+21"
      ]
     },
     "execution_count": 40,
     "metadata": {},
     "output_type": "execute_result"
    }
   ],
   "source": [
    "voting4=VotingRegressor(estimators=estimators, weights=(1,2,3))\n",
    "cross_val_score(voting4, X_train, y_train, cv=10, scoring='neg_mean_squared_error').mean()"
   ]
  },
  {
   "cell_type": "markdown",
   "id": "debf8a48",
   "metadata": {},
   "source": [
    "### Bagging Regressor"
   ]
  },
  {
   "cell_type": "code",
   "execution_count": 41,
   "id": "517b1877",
   "metadata": {},
   "outputs": [
    {
     "data": {
      "text/plain": [
       "-2.21515479031126e+22"
      ]
     },
     "execution_count": 41,
     "metadata": {},
     "output_type": "execute_result"
    }
   ],
   "source": [
    "bagging_lr = BaggingRegressor(base_estimator=lr_best_reg, n_estimators=10, random_state=21, n_jobs=-1)\n",
    "cross_val_score(bagging_lr, X_train, y_train, cv=10, scoring='neg_mean_squared_error').mean()"
   ]
  },
  {
   "cell_type": "code",
   "execution_count": 42,
   "id": "b4a14223",
   "metadata": {},
   "outputs": [
    {
     "data": {
      "text/plain": [
       "-5.819299512940826e+21"
      ]
     },
     "execution_count": 42,
     "metadata": {},
     "output_type": "execute_result"
    }
   ],
   "source": [
    "bagging_lr = BaggingRegressor(base_estimator=lr_best_reg, n_estimators=20, random_state=21, n_jobs=-1)\n",
    "cross_val_score(bagging_lr, X_train, y_train, cv=10, scoring='neg_mean_squared_error').mean()"
   ]
  },
  {
   "cell_type": "code",
   "execution_count": 43,
   "id": "fee6bdac",
   "metadata": {},
   "outputs": [
    {
     "data": {
      "text/plain": [
       "-1.584904224279955"
      ]
     },
     "execution_count": 43,
     "metadata": {},
     "output_type": "execute_result"
    }
   ],
   "source": [
    "bagging_tree = BaggingRegressor(base_estimator=tree_best_reg, n_estimators=10, random_state=21, n_jobs=-1)\n",
    "cross_val_score(bagging_tree, X_train, y_train, cv=10, scoring='neg_mean_squared_error').mean()"
   ]
  },
  {
   "cell_type": "code",
   "execution_count": 44,
   "id": "91997142",
   "metadata": {},
   "outputs": [
    {
     "data": {
      "text/plain": [
       "-1.5817018240653442"
      ]
     },
     "execution_count": 44,
     "metadata": {},
     "output_type": "execute_result"
    }
   ],
   "source": [
    "bagging_tree = BaggingRegressor(base_estimator=tree_best_reg, n_estimators=20, random_state=21, n_jobs=-1)\n",
    "cross_val_score(bagging_tree, X_train, y_train, cv=10, scoring='neg_mean_squared_error').mean()"
   ]
  },
  {
   "cell_type": "code",
   "execution_count": 45,
   "id": "4287ac91",
   "metadata": {},
   "outputs": [
    {
     "data": {
      "text/plain": [
       "-1.5646388777700468"
      ]
     },
     "execution_count": 45,
     "metadata": {},
     "output_type": "execute_result"
    }
   ],
   "source": [
    "bagging_forest = BaggingRegressor(base_estimator=forest_best_reg, n_estimators=10, random_state=21, n_jobs=-1)\n",
    "cross_val_score(bagging_forest, X_train, y_train, cv=10, scoring='neg_mean_squared_error').mean()"
   ]
  },
  {
   "cell_type": "code",
   "execution_count": 46,
   "id": "f4fe7f40",
   "metadata": {},
   "outputs": [
    {
     "data": {
      "text/plain": [
       "-1.5654829351240944"
      ]
     },
     "execution_count": 46,
     "metadata": {},
     "output_type": "execute_result"
    }
   ],
   "source": [
    "bagging_forest = BaggingRegressor(base_estimator=forest_best_reg, n_estimators=20, random_state=21, n_jobs=-1)\n",
    "cross_val_score(bagging_forest, X_train, y_train, cv=10, scoring='neg_mean_squared_error').mean()"
   ]
  },
  {
   "cell_type": "markdown",
   "id": "d175c725",
   "metadata": {},
   "source": [
    "### Stacking Regressor"
   ]
  },
  {
   "cell_type": "code",
   "execution_count": 47,
   "id": "e7d49676",
   "metadata": {},
   "outputs": [
    {
     "data": {
      "text/plain": [
       "-1.7442798632599334"
      ]
     },
     "execution_count": 47,
     "metadata": {},
     "output_type": "execute_result"
    }
   ],
   "source": [
    "estimators = [('lr', lr_best_reg), ('tree', tree_best_reg), ('rfc', forest_best_reg)]\n",
    "\n",
    "stacking = StackingRegressor(estimators=estimators, passthrough = False,\n",
    "                      final_estimator=RandomForestRegressor(),\n",
    "                        cv=5, n_jobs=-1)\n",
    "cross_val_score(stacking, X_train, y_train, cv=10, scoring='neg_mean_squared_error').mean()"
   ]
  },
  {
   "cell_type": "code",
   "execution_count": 48,
   "id": "9d0ba99d",
   "metadata": {},
   "outputs": [
    {
     "data": {
      "text/plain": [
       "-1.6756244654078027"
      ]
     },
     "execution_count": 48,
     "metadata": {},
     "output_type": "execute_result"
    }
   ],
   "source": [
    "stacking = StackingRegressor(estimators=estimators, passthrough = True,\n",
    "                      final_estimator=RandomForestRegressor(),\n",
    "                        cv=7, n_jobs=-1)\n",
    "cross_val_score(stacking, X_train, y_train, cv=10, scoring='neg_mean_squared_error').mean()"
   ]
  },
  {
   "cell_type": "code",
   "execution_count": 49,
   "id": "a1d6067a",
   "metadata": {},
   "outputs": [],
   "source": [
    "essemble_best = BaggingRegressor(base_estimator=forest_best_reg, n_estimators=20, random_state=21, n_jobs=-1)"
   ]
  },
  {
   "cell_type": "code",
   "execution_count": 50,
   "id": "868805b9",
   "metadata": {},
   "outputs": [
    {
     "name": "stdout",
     "output_type": "stream",
     "text": [
      "Mean Square Error:  1.5608396433835428\n",
      "Root Mean Square Error:  1.2493356808254308\n"
     ]
    }
   ],
   "source": [
    "# лучшая модель - на тесте\n",
    "\n",
    "essemble_best.fit(X_train, y_train)\n",
    "y_pred = essemble_best.predict(X_test)\n",
    "MSE = mean_squared_error(y_test, y_pred)\n",
    "\n",
    "RMSE = math.sqrt(MSE)\n",
    "print(\"Mean Square Error: \", MSE)\n",
    "print(\"Root Mean Square Error: \", RMSE)"
   ]
  },
  {
   "cell_type": "markdown",
   "id": "e58d81b1",
   "metadata": {},
   "source": [
    "* Посчитаем RMSE для наивного регрессора, в котором мы просто высчитали средний рейтинг."
   ]
  },
  {
   "cell_type": "code",
   "execution_count": 51,
   "id": "a4bf622c",
   "metadata": {},
   "outputs": [],
   "source": [
    "y_mean = y_test.mean()\n",
    "y_pred = [y_mean for i in range(len(y_test))]"
   ]
  },
  {
   "cell_type": "code",
   "execution_count": 52,
   "id": "cfe33882",
   "metadata": {},
   "outputs": [
    {
     "name": "stdout",
     "output_type": "stream",
     "text": [
      "Mean Square Error:  1.6998790546498967\n",
      "Root Mean Square Error:  1.3037940997910278\n"
     ]
    }
   ],
   "source": [
    "MSE_naive = mean_squared_error(y_test, y_pred)\n",
    "MSE = mean_squared_error(y_test, y_pred)\n",
    "RMSE = math.sqrt(MSE)\n",
    "print(\"Mean Square Error: \", MSE)\n",
    "print(\"Root Mean Square Error: \", RMSE)"
   ]
  },
  {
   "cell_type": "markdown",
   "id": "1abc4238",
   "metadata": {},
   "source": [
    "## 3. Классификация\n",
    "\n",
    "* Бинаризируем значения целевой переменной путем округления рейтингов до ближайшего целого числа. Это и будут наши классы.\n",
    "* Для прогнозирования классов попробуем различные алгоритмы и их гиперпараметры. Выберем лучшее решение на основе кроссвалидации и посчитаем accuracy на тестовой подвыборке."
   ]
  },
  {
   "cell_type": "code",
   "execution_count": 53,
   "id": "f752ad72",
   "metadata": {},
   "outputs": [
    {
     "data": {
      "text/plain": [
       "0        2\n",
       "1        4\n",
       "2        4\n",
       "3        5\n",
       "4        3\n",
       "        ..\n",
       "20047    3\n",
       "20048    4\n",
       "20049    4\n",
       "20050    4\n",
       "20051    4\n",
       "Name: rating, Length: 17942, dtype: int32"
      ]
     },
     "execution_count": 53,
     "metadata": {},
     "output_type": "execute_result"
    }
   ],
   "source": [
    "y2 = y.round(0).astype(int)\n",
    "y2"
   ]
  },
  {
   "cell_type": "code",
   "execution_count": 54,
   "id": "8c24b5bc",
   "metadata": {},
   "outputs": [],
   "source": [
    "X2 = X.copy()"
   ]
  },
  {
   "cell_type": "code",
   "execution_count": 55,
   "id": "b9a3c46f",
   "metadata": {},
   "outputs": [],
   "source": [
    "X2_train, X2_test, y2_train, y2_test = train_test_split(X2, y2, \n",
    "                                                    test_size=0.2, \n",
    "                                                    random_state=21, \n",
    "                                                    stratify=y2)"
   ]
  },
  {
   "cell_type": "markdown",
   "id": "c60f5172",
   "metadata": {},
   "source": [
    "* Logistic Regression"
   ]
  },
  {
   "cell_type": "code",
   "execution_count": 56,
   "id": "462e7fbf",
   "metadata": {},
   "outputs": [],
   "source": [
    "lr_parametrs = dict(random_state=[21], \n",
    "                    fit_intercept=[True,False])"
   ]
  },
  {
   "cell_type": "code",
   "execution_count": 57,
   "id": "735f9817",
   "metadata": {},
   "outputs": [
    {
     "data": {
      "text/plain": [
       "{'fit_intercept': True, 'random_state': 21}"
      ]
     },
     "execution_count": 57,
     "metadata": {},
     "output_type": "execute_result"
    }
   ],
   "source": [
    "clf_lr = LogisticRegression()\n",
    "grid_lr = GridSearchCV(clf_lr, lr_parametrs, scoring='accuracy', n_jobs=-1)\n",
    "grid_lr.fit(X2_train, y2_train)\n",
    "grid_lr.best_params_"
   ]
  },
  {
   "cell_type": "code",
   "execution_count": 58,
   "id": "b086d1a1",
   "metadata": {},
   "outputs": [
    {
     "data": {
      "text/plain": [
       "0.6763738793679921"
      ]
     },
     "execution_count": 58,
     "metadata": {},
     "output_type": "execute_result"
    }
   ],
   "source": [
    "grid_lr.best_score_"
   ]
  },
  {
   "cell_type": "code",
   "execution_count": 59,
   "id": "02ce18fb",
   "metadata": {},
   "outputs": [
    {
     "data": {
      "text/plain": [
       "0.6763738793679921"
      ]
     },
     "execution_count": 59,
     "metadata": {},
     "output_type": "execute_result"
    }
   ],
   "source": [
    "clf_lr_best=LogisticRegression(**grid_lr.best_params_)\n",
    "cross_val_score(clf_lr_best, X2_train, y2_train).mean()"
   ]
  },
  {
   "cell_type": "markdown",
   "id": "0bccf77a",
   "metadata": {},
   "source": [
    "* Decision Tree"
   ]
  },
  {
   "cell_type": "code",
   "execution_count": 60,
   "id": "16506e96",
   "metadata": {},
   "outputs": [],
   "source": [
    "tree_parametrs = dict(max_depth=range(1,50,10),\n",
    "                 class_weight =['balanced', None],\n",
    "                 criterion = ['entropy', 'gini'],\n",
    "                          random_state=[21])"
   ]
  },
  {
   "cell_type": "code",
   "execution_count": 61,
   "id": "324f8371",
   "metadata": {},
   "outputs": [
    {
     "data": {
      "text/plain": [
       "{'class_weight': None,\n",
       " 'criterion': 'entropy',\n",
       " 'max_depth': 1,\n",
       " 'random_state': 21}"
      ]
     },
     "execution_count": 61,
     "metadata": {},
     "output_type": "execute_result"
    }
   ],
   "source": [
    "clf_tree = DecisionTreeClassifier()\n",
    "grid_tree = GridSearchCV(clf_tree, tree_parametrs, scoring='accuracy', n_jobs=-1)\n",
    "grid_tree.fit(X2_train, y2_train)\n",
    "grid_tree.best_params_"
   ]
  },
  {
   "cell_type": "code",
   "execution_count": 62,
   "id": "8b10b4b3",
   "metadata": {},
   "outputs": [
    {
     "data": {
      "text/plain": [
       "0.674562663763673"
      ]
     },
     "execution_count": 62,
     "metadata": {},
     "output_type": "execute_result"
    }
   ],
   "source": [
    "grid_tree.best_score_"
   ]
  },
  {
   "cell_type": "code",
   "execution_count": 63,
   "id": "4c849f4b",
   "metadata": {},
   "outputs": [
    {
     "data": {
      "text/plain": [
       "0.674562663763673"
      ]
     },
     "execution_count": 63,
     "metadata": {},
     "output_type": "execute_result"
    }
   ],
   "source": [
    "clf_tree_best=DecisionTreeClassifier(**grid_tree.best_params_)\n",
    "cross_val_score(clf_tree_best, X2_train, y2_train).mean()"
   ]
  },
  {
   "cell_type": "markdown",
   "id": "05c8e1f1",
   "metadata": {},
   "source": [
    "* Random Forest"
   ]
  },
  {
   "cell_type": "code",
   "execution_count": 64,
   "id": "ff33594c",
   "metadata": {},
   "outputs": [],
   "source": [
    "forest_parametrs = dict(n_estimators=[5,10,50,100],\n",
    "                 max_depth = range(1,50, 10),\n",
    "                 max_features= range(10,60,20),\n",
    "                 class_weight =['balanced', None],\n",
    "                 criterion = ['entropy', 'gini'],\n",
    "                          random_state=[21])"
   ]
  },
  {
   "cell_type": "code",
   "execution_count": 65,
   "id": "ff330ac6",
   "metadata": {},
   "outputs": [
    {
     "data": {
      "text/plain": [
       "{'class_weight': None,\n",
       " 'criterion': 'gini',\n",
       " 'max_depth': 21,\n",
       " 'max_features': 30,\n",
       " 'n_estimators': 100,\n",
       " 'random_state': 21}"
      ]
     },
     "execution_count": 65,
     "metadata": {},
     "output_type": "execute_result"
    }
   ],
   "source": [
    "clf_forest= RandomForestClassifier()\n",
    "grid_forest = GridSearchCV(clf_forest, forest_parametrs, scoring='accuracy', n_jobs=-1)\n",
    "grid_forest.fit(X2_train, y2_train)\n",
    "grid_forest.best_params_"
   ]
  },
  {
   "cell_type": "code",
   "execution_count": 66,
   "id": "68965f8e",
   "metadata": {},
   "outputs": [
    {
     "data": {
      "text/plain": [
       "0.6758862929426428"
      ]
     },
     "execution_count": 66,
     "metadata": {},
     "output_type": "execute_result"
    }
   ],
   "source": [
    "grid_forest.best_score_"
   ]
  },
  {
   "cell_type": "code",
   "execution_count": 67,
   "id": "3fe17fe0",
   "metadata": {},
   "outputs": [
    {
     "data": {
      "text/plain": [
       "0.6758862929426428"
      ]
     },
     "execution_count": 67,
     "metadata": {},
     "output_type": "execute_result"
    }
   ],
   "source": [
    "clf_forest_best= RandomForestClassifier(**grid_forest.best_params_)\n",
    "cross_val_score(clf_forest_best, X2_train, y2_train).mean()"
   ]
  },
  {
   "cell_type": "code",
   "execution_count": 68,
   "id": "ca3d0b03",
   "metadata": {},
   "outputs": [
    {
     "data": {
      "text/plain": [
       "0.6765115631095012"
      ]
     },
     "execution_count": 68,
     "metadata": {},
     "output_type": "execute_result"
    }
   ],
   "source": [
    "# лучшая модель - на тесте\n",
    "clf_forest_best= RandomForestClassifier(**grid_forest.best_params_)\n",
    "clf_forest_best.fit(X2_train, y2_train)\n",
    "y2_pred = clf_forest_best.predict(X2_test)\n",
    "accuracy_score(y2_test, y2_pred).mean()"
   ]
  },
  {
   "cell_type": "markdown",
   "id": "50044a2c",
   "metadata": {},
   "source": [
    "* Рассчитаем значение accuracy наивного классификатора, в котором для всех наблюдений прогнозируем наиболее распространенный класс. Сравним метрики."
   ]
  },
  {
   "cell_type": "code",
   "execution_count": 69,
   "id": "9c032858",
   "metadata": {},
   "outputs": [
    {
     "name": "stdout",
     "output_type": "stream",
     "text": [
      "Accuracy of naiv prediction is 0.6678742615093077\n"
     ]
    }
   ],
   "source": [
    "# посчитаем accuracy для наивного случая\n",
    "y2_pop = y2.value_counts(ascending=False).index[0] #выявили самый популярный класс\n",
    "y2_naive = [y2_pop for i in range(len(y2))]\n",
    "acc = accuracy_score(y2, y2_naive)\n",
    "print(f'Accuracy of naiv prediction is {acc}')"
   ]
  },
  {
   "cell_type": "markdown",
   "id": "5fc1773e",
   "metadata": {},
   "source": [
    "* Снова проведем бинаризацию целевого столбца, преобразовав теперь целые числа в классы bad (0, 1) (невкусное), so-so (2, 3) (нормальное), great (4, 5) (вкусное).\n",
    "* Снова для прогнозирования классов попробуем различные алгоритмы и их гиперпараметры. Выберем лучшее решение на основе кроссвалидации и посчитаем accuracy на тестовой подвыборке."
   ]
  },
  {
   "cell_type": "code",
   "execution_count": 70,
   "id": "4d26b059",
   "metadata": {},
   "outputs": [],
   "source": [
    "y3 = y2.map({0: 'bad',\n",
    "                          1: 'bad', \n",
    "                          2: 'so-so', \n",
    "                          3: 'so-so', \n",
    "                          4: 'great', \n",
    "                          5: 'great'}) "
   ]
  },
  {
   "cell_type": "code",
   "execution_count": 71,
   "id": "7daa17df",
   "metadata": {},
   "outputs": [],
   "source": [
    "X3 = X2.copy()"
   ]
  },
  {
   "cell_type": "code",
   "execution_count": 72,
   "id": "544d6818",
   "metadata": {},
   "outputs": [],
   "source": [
    "X3_train, X3_test, y3_train, y3_test = train_test_split(X3, y3, \n",
    "                                                    test_size=0.2, \n",
    "                                                    random_state=21, \n",
    "                                                    stratify=y3)"
   ]
  },
  {
   "cell_type": "markdown",
   "id": "a6abf5e0",
   "metadata": {},
   "source": [
    "* Logistic Regression"
   ]
  },
  {
   "cell_type": "code",
   "execution_count": 73,
   "id": "f888ef02",
   "metadata": {},
   "outputs": [],
   "source": [
    "lr_parametrs = dict(random_state=[21], \n",
    "                    fit_intercept=[True,False])"
   ]
  },
  {
   "cell_type": "code",
   "execution_count": 74,
   "id": "848f5a0e",
   "metadata": {},
   "outputs": [
    {
     "data": {
      "text/plain": [
       "{'fit_intercept': True, 'random_state': 21}"
      ]
     },
     "execution_count": 74,
     "metadata": {},
     "output_type": "execute_result"
    }
   ],
   "source": [
    "clf_lr = LogisticRegression()\n",
    "grid_lr = GridSearchCV(clf_lr, lr_parametrs, scoring='accuracy', n_jobs=-1)\n",
    "grid_lr.fit(X3_train, y3_train)\n",
    "grid_lr.best_params_"
   ]
  },
  {
   "cell_type": "code",
   "execution_count": 75,
   "id": "07e3e170",
   "metadata": {},
   "outputs": [
    {
     "data": {
      "text/plain": [
       "0.8042920130052174"
      ]
     },
     "execution_count": 75,
     "metadata": {},
     "output_type": "execute_result"
    }
   ],
   "source": [
    "grid_lr.best_score_"
   ]
  },
  {
   "cell_type": "code",
   "execution_count": 76,
   "id": "d9225151",
   "metadata": {},
   "outputs": [
    {
     "data": {
      "text/plain": [
       "0.8042920130052174"
      ]
     },
     "execution_count": 76,
     "metadata": {},
     "output_type": "execute_result"
    }
   ],
   "source": [
    "clf_lr_best=LogisticRegression(**grid_lr.best_params_)\n",
    "cross_val_score(clf_lr_best, X3_train, y3_train).mean()"
   ]
  },
  {
   "cell_type": "markdown",
   "id": "f3bbfba0",
   "metadata": {},
   "source": [
    "* Decision Tree"
   ]
  },
  {
   "cell_type": "code",
   "execution_count": 77,
   "id": "8dd51cc8",
   "metadata": {},
   "outputs": [],
   "source": [
    "tree_parametrs = dict(max_depth=range(1,50,10),\n",
    "                 class_weight =['balanced', None],\n",
    "                 criterion = ['entropy', 'gini'],\n",
    "                          random_state=[21])"
   ]
  },
  {
   "cell_type": "code",
   "execution_count": 78,
   "id": "bca5df15",
   "metadata": {},
   "outputs": [
    {
     "data": {
      "text/plain": [
       "{'class_weight': None,\n",
       " 'criterion': 'entropy',\n",
       " 'max_depth': 1,\n",
       " 'random_state': 21}"
      ]
     },
     "execution_count": 78,
     "metadata": {},
     "output_type": "execute_result"
    }
   ],
   "source": [
    "clf_tree = DecisionTreeClassifier()\n",
    "grid_tree = GridSearchCV(clf_tree, tree_parametrs, scoring='accuracy', n_jobs=-1)\n",
    "grid_tree.fit(X3_train, y3_train)\n",
    "grid_tree.best_params_"
   ]
  },
  {
   "cell_type": "code",
   "execution_count": 79,
   "id": "6c21a64e",
   "metadata": {},
   "outputs": [
    {
     "data": {
      "text/plain": [
       "0.8046401537907005"
      ]
     },
     "execution_count": 79,
     "metadata": {},
     "output_type": "execute_result"
    }
   ],
   "source": [
    "grid_tree.best_score_"
   ]
  },
  {
   "cell_type": "code",
   "execution_count": 80,
   "id": "4a9bfa59",
   "metadata": {},
   "outputs": [
    {
     "data": {
      "text/plain": [
       "0.8046401537907005"
      ]
     },
     "execution_count": 80,
     "metadata": {},
     "output_type": "execute_result"
    }
   ],
   "source": [
    "clf_tree_best=DecisionTreeClassifier(**grid_tree.best_params_)\n",
    "cross_val_score(clf_tree_best, X3_train, y3_train).mean()"
   ]
  },
  {
   "cell_type": "markdown",
   "id": "3844238a",
   "metadata": {},
   "source": [
    "* Random Forest"
   ]
  },
  {
   "cell_type": "code",
   "execution_count": 81,
   "id": "2003f8a1",
   "metadata": {},
   "outputs": [],
   "source": [
    "forest_parametrs = dict(n_estimators=[5,10,50,100],\n",
    "                 max_depth = range(10,160, 40),\n",
    "                 max_features= [10, 20, 40, 80],\n",
    "                 class_weight =['balanced', None],\n",
    "                 criterion = ['entropy', 'gini'],\n",
    "                          random_state=[21])"
   ]
  },
  {
   "cell_type": "code",
   "execution_count": 82,
   "id": "cc799dd7",
   "metadata": {},
   "outputs": [
    {
     "data": {
      "text/plain": [
       "{'class_weight': None,\n",
       " 'criterion': 'entropy',\n",
       " 'max_depth': 10,\n",
       " 'max_features': 40,\n",
       " 'n_estimators': 100,\n",
       " 'random_state': 21}"
      ]
     },
     "execution_count": 82,
     "metadata": {},
     "output_type": "execute_result"
    }
   ],
   "source": [
    "clf_forest= RandomForestClassifier()\n",
    "grid_forest = GridSearchCV(clf_forest, forest_parametrs, scoring='accuracy', n_jobs=-1)\n",
    "grid_forest.fit(X3_train, y3_train)\n",
    "grid_forest.best_params_"
   ]
  },
  {
   "cell_type": "code",
   "execution_count": 83,
   "id": "2b11899e",
   "metadata": {},
   "outputs": [
    {
     "data": {
      "text/plain": [
       "0.8054065586782155"
      ]
     },
     "execution_count": 83,
     "metadata": {},
     "output_type": "execute_result"
    }
   ],
   "source": [
    "grid_forest.best_score_"
   ]
  },
  {
   "cell_type": "code",
   "execution_count": 84,
   "id": "249c49f3",
   "metadata": {},
   "outputs": [
    {
     "data": {
      "text/plain": [
       "0.8054065586782155"
      ]
     },
     "execution_count": 84,
     "metadata": {},
     "output_type": "execute_result"
    }
   ],
   "source": [
    "clf_forest_best= RandomForestClassifier(**grid_forest.best_params_)\n",
    "cross_val_score(clf_forest_best, X3_train, y3_train).mean()"
   ]
  },
  {
   "cell_type": "code",
   "execution_count": 85,
   "id": "8dc86df8",
   "metadata": {},
   "outputs": [
    {
     "data": {
      "text/plain": [
       "0.8027305656171636"
      ]
     },
     "execution_count": 85,
     "metadata": {},
     "output_type": "execute_result"
    }
   ],
   "source": [
    "# лучшая модель - на тесте\n",
    "clf_forest_best= RandomForestClassifier(**grid_forest.best_params_)\n",
    "clf_forest_best.fit(X3_train, y3_train)\n",
    "accuracy_score(y3_test, clf_forest_best.predict(X3_test)).mean()"
   ]
  },
  {
   "cell_type": "code",
   "execution_count": 86,
   "id": "1973fa76",
   "metadata": {},
   "outputs": [
    {
     "name": "stdout",
     "output_type": "stream",
     "text": [
      "              precision    recall  f1-score   support\n",
      "\n",
      "         bad       0.63      0.08      0.14       334\n",
      "       great       0.80      1.00      0.89      2867\n",
      "       so-so       0.00      0.00      0.00       388\n",
      "\n",
      "    accuracy                           0.80      3589\n",
      "   macro avg       0.48      0.36      0.34      3589\n",
      "weighted avg       0.70      0.80      0.72      3589\n",
      "\n"
     ]
    }
   ],
   "source": [
    "print(classification_report(y3_test,clf_forest_best.predict(X3_test) ))"
   ]
  },
  {
   "cell_type": "markdown",
   "id": "4aea31e7",
   "metadata": {},
   "source": [
    "* Снова рассчитаем значение accuracy наивного классификатора, в котором для всех наблюдений прогнозируем наиболее распространенный класс. Сравним метрики.\n",
    "* Что хуже: спрогнозировать плохой рейтинг, который на самом деле окажется хорошим, или спрогнозировать хороший рейтинг, который на самом деле окажется плохим? Заменим метрику accuracy другой соответствующей метрикой - precision."
   ]
  },
  {
   "cell_type": "code",
   "execution_count": 87,
   "id": "17cd8a50",
   "metadata": {},
   "outputs": [
    {
     "name": "stdout",
     "output_type": "stream",
     "text": [
      "Accuracy of naiv prediction is 0.7987403856872144\n"
     ]
    }
   ],
   "source": [
    "# посчитаем accuracy для наивного случая\n",
    "y3_pop = y3.value_counts(ascending=False).index[0] #выявили самый популярный класс\n",
    "y3_naive = [y3_pop for i in range(len(y))]\n",
    "acc = accuracy_score(y3, y3_naive)\n",
    "print(f'Accuracy of naiv prediction is {acc}')"
   ]
  },
  {
   "cell_type": "markdown",
   "id": "11c37271",
   "metadata": {},
   "source": [
    "* Precision можно интерпретировать как долю объектов, названных классификатором положительными и при этом действительно являющимися положительными, \n",
    "* recall показывает, какую долю объектов положительного класса из всех объектов положительного класса нашел алгоритм.\n",
    "* Очевидный недостаток пары метрик precision-recall - в том, что их две: непонятно, как ранжировать алгоритмы. Чтобы этого избежать, используют F1-метрику, которая равна среднему гармоническому precision и recall. F1-метрика будет равна 1, если и только если precision = 1 и recall = 1 (идеальный алгоритм)."
   ]
  },
  {
   "cell_type": "code",
   "execution_count": 88,
   "id": "5d0b42ae",
   "metadata": {},
   "outputs": [
    {
     "data": {
      "text/plain": [
       "0.8262614631541515"
      ]
     },
     "execution_count": 88,
     "metadata": {},
     "output_type": "execute_result"
    }
   ],
   "source": [
    "precision_score(y3_train, clf_forest_best.predict(X3_train), average='weighted')"
   ]
  },
  {
   "cell_type": "code",
   "execution_count": 89,
   "id": "7d5c4fb5",
   "metadata": {},
   "outputs": [
    {
     "data": {
      "text/plain": [
       "0.701816296641488"
      ]
     },
     "execution_count": 89,
     "metadata": {},
     "output_type": "execute_result"
    }
   ],
   "source": [
    "precision_score(y3_test, clf_forest_best.predict(X3_test), average='weighted')"
   ]
  },
  {
   "cell_type": "markdown",
   "id": "5b3c7bda",
   "metadata": {},
   "source": [
    "* Для прогнозирования классов с новой метрикой опробуем различные алгоритмы и их гиперпараметры. Выберем лучшее решение и посчитаем метрику на тестовой подвыборке."
   ]
  },
  {
   "cell_type": "code",
   "execution_count": 90,
   "id": "dceca0ba",
   "metadata": {},
   "outputs": [
    {
     "data": {
      "text/plain": [
       "0.7840889230202939"
      ]
     },
     "execution_count": 90,
     "metadata": {},
     "output_type": "execute_result"
    }
   ],
   "source": [
    "lr = LogisticRegression(solver='liblinear', random_state=21).fit(X3_train, y3_train)\n",
    "precision_score(y3_train, lr.predict(X3_train), average='weighted')"
   ]
  },
  {
   "cell_type": "code",
   "execution_count": 91,
   "id": "dbd7c268",
   "metadata": {},
   "outputs": [
    {
     "data": {
      "text/plain": [
       "0.7125669269074747"
      ]
     },
     "execution_count": 91,
     "metadata": {},
     "output_type": "execute_result"
    }
   ],
   "source": [
    "lr = LogisticRegression(solver='liblinear', random_state=21, fit_intercept=False, penalty=\"l2\").fit(X3_train, y3_train)\n",
    "precision_score(y3_train, lr.predict(X3_train), average='weighted')"
   ]
  },
  {
   "cell_type": "code",
   "execution_count": 92,
   "id": "ba5ba119",
   "metadata": {},
   "outputs": [
    {
     "data": {
      "text/plain": [
       "0.8310812775880237"
      ]
     },
     "execution_count": 92,
     "metadata": {},
     "output_type": "execute_result"
    }
   ],
   "source": [
    "svc = SVC(probability=True, random_state=21).fit(X3_train, y3_train)\n",
    "precision_score(y3_train, svc.predict(X3_train), average='weighted')"
   ]
  },
  {
   "cell_type": "code",
   "execution_count": 93,
   "id": "bf24cc66",
   "metadata": {},
   "outputs": [
    {
     "data": {
      "text/plain": [
       "0.8143333514801544"
      ]
     },
     "execution_count": 93,
     "metadata": {},
     "output_type": "execute_result"
    }
   ],
   "source": [
    "tree = DecisionTreeClassifier(max_depth=10, random_state=21).fit(X3_train, y3_train)\n",
    "precision_score(y3_train, tree.predict(X3_train), average='weighted')"
   ]
  },
  {
   "cell_type": "code",
   "execution_count": 94,
   "id": "8e967d87",
   "metadata": {},
   "outputs": [
    {
     "data": {
      "text/plain": [
       "0.9049693539762981"
      ]
     },
     "execution_count": 94,
     "metadata": {},
     "output_type": "execute_result"
    }
   ],
   "source": [
    "tree = DecisionTreeClassifier(max_depth=60, random_state=21).fit(X3_train, y3_train)\n",
    "precision_score(y3_train, tree.predict(X3_train), average='weighted')"
   ]
  },
  {
   "cell_type": "code",
   "execution_count": 95,
   "id": "134323fb",
   "metadata": {},
   "outputs": [
    {
     "data": {
      "text/plain": [
       "0.8309665823748758"
      ]
     },
     "execution_count": 95,
     "metadata": {},
     "output_type": "execute_result"
    }
   ],
   "source": [
    "forest = RandomForestClassifier(n_estimators=50, max_depth=14, random_state=21).fit(X3_train, y3_train)\n",
    "precision_score(y3_train, forest.predict(X3_train), average='weighted')"
   ]
  },
  {
   "cell_type": "code",
   "execution_count": 96,
   "id": "054483bf",
   "metadata": {},
   "outputs": [
    {
     "data": {
      "text/plain": [
       "0.9503579040571525"
      ]
     },
     "execution_count": 96,
     "metadata": {},
     "output_type": "execute_result"
    }
   ],
   "source": [
    "forest = RandomForestClassifier(n_estimators=100, max_depth=160, random_state=21, max_features=120).fit(X3_train, y3_train)\n",
    "precision_score(y3_train, forest.predict(X3_train), average='weighted')"
   ]
  },
  {
   "cell_type": "code",
   "execution_count": 97,
   "id": "05e4bd14",
   "metadata": {},
   "outputs": [
    {
     "name": "stdout",
     "output_type": "stream",
     "text": [
      "              precision    recall  f1-score   support\n",
      "\n",
      "         bad       0.93      0.76      0.84      1337\n",
      "       great       0.95      0.99      0.97     11464\n",
      "       so-so       0.97      0.80      0.88      1552\n",
      "\n",
      "    accuracy                           0.95     14353\n",
      "   macro avg       0.95      0.85      0.89     14353\n",
      "weighted avg       0.95      0.95      0.95     14353\n",
      "\n"
     ]
    }
   ],
   "source": [
    "print(classification_report(y3_train, forest.predict(X3_train)))"
   ]
  },
  {
   "cell_type": "code",
   "execution_count": 98,
   "id": "59b9ce01",
   "metadata": {},
   "outputs": [
    {
     "data": {
      "text/plain": [
       "0.7012695755479372"
      ]
     },
     "execution_count": 98,
     "metadata": {},
     "output_type": "execute_result"
    }
   ],
   "source": [
    "# лучшая модель - на тесте\n",
    "clf_forest_best = RandomForestClassifier(n_estimators=100, max_depth=160, random_state=21, max_features=120).fit(X3_train, y3_train)\n",
    "precision_score(y3_test, clf_forest_best.predict(X3_test), average='weighted')"
   ]
  },
  {
   "cell_type": "code",
   "execution_count": 99,
   "id": "4b343eca",
   "metadata": {},
   "outputs": [
    {
     "name": "stdout",
     "output_type": "stream",
     "text": [
      "              precision    recall  f1-score   support\n",
      "\n",
      "         bad       0.33      0.20      0.25       334\n",
      "       great       0.82      0.93      0.87      2867\n",
      "       so-so       0.17      0.06      0.09       388\n",
      "\n",
      "    accuracy                           0.76      3589\n",
      "   macro avg       0.44      0.39      0.40      3589\n",
      "weighted avg       0.70      0.76      0.73      3589\n",
      "\n"
     ]
    }
   ],
   "source": [
    "print(classification_report(y3_test, clf_forest_best.predict(X3_test)))"
   ]
  },
  {
   "cell_type": "markdown",
   "id": "ecfa5f44",
   "metadata": {},
   "source": [
    "* Попробуем различные ансамбли и их гиперпараметры. Выберем лучшее решение и посчитаем метрику на тестовой подвыборке."
   ]
  },
  {
   "cell_type": "code",
   "execution_count": 100,
   "id": "e7edc148",
   "metadata": {},
   "outputs": [],
   "source": [
    "lr_best = LogisticRegression(solver='liblinear', random_state=21)\n",
    "tree_best = DecisionTreeClassifier(max_depth=120, random_state=21)\n",
    "forest_best = RandomForestClassifier(n_estimators=100, max_depth=200, random_state=21, max_features=120)"
   ]
  },
  {
   "cell_type": "code",
   "execution_count": 101,
   "id": "4b415c00",
   "metadata": {},
   "outputs": [
    {
     "data": {
      "text/plain": [
       "0.9433681914761013"
      ]
     },
     "execution_count": 101,
     "metadata": {},
     "output_type": "execute_result"
    }
   ],
   "source": [
    "estimators = [('lr', lr_best), ('tree', tree_best), ('rfc', forest_best)]\n",
    "voting = VotingClassifier(estimators=estimators, voting='soft').fit(X3_train, y3_train)\n",
    "precision_score(y3_train, voting.predict(X3_train), average='weighted')"
   ]
  },
  {
   "cell_type": "code",
   "execution_count": 102,
   "id": "b91748ff",
   "metadata": {},
   "outputs": [
    {
     "data": {
      "text/plain": [
       "0.9473892495193291"
      ]
     },
     "execution_count": 102,
     "metadata": {},
     "output_type": "execute_result"
    }
   ],
   "source": [
    "voting = VotingClassifier(estimators=estimators, weights=(1,2,3)).fit(X3_train, y3_train)\n",
    "precision_score(y3_train, voting.predict(X3_train), average='weighted')"
   ]
  },
  {
   "cell_type": "code",
   "execution_count": 103,
   "id": "49cc2046",
   "metadata": {},
   "outputs": [
    {
     "data": {
      "text/plain": [
       "0.9473892495193291"
      ]
     },
     "execution_count": 103,
     "metadata": {},
     "output_type": "execute_result"
    }
   ],
   "source": [
    "voting = VotingClassifier(estimators=estimators, weights=(2,2,4)).fit(X3_train, y3_train)\n",
    "precision_score(y3_train, voting.predict(X3_train), average='weighted')"
   ]
  },
  {
   "cell_type": "code",
   "execution_count": 104,
   "id": "d2d17d76",
   "metadata": {},
   "outputs": [
    {
     "data": {
      "text/plain": [
       "0.9330099735629963"
      ]
     },
     "execution_count": 104,
     "metadata": {},
     "output_type": "execute_result"
    }
   ],
   "source": [
    "bag_tree = BaggingClassifier(base_estimator=tree_best, n_estimators=20, random_state=21, n_jobs=-1)\n",
    "bag_tree.fit(X3_train, y3_train)\n",
    "precision_score(y3_train, bag_tree.predict(X3_train), average='weighted')"
   ]
  },
  {
   "cell_type": "code",
   "execution_count": 105,
   "id": "49bfbbb8",
   "metadata": {},
   "outputs": [
    {
     "data": {
      "text/plain": [
       "0.9257662071116254"
      ]
     },
     "execution_count": 105,
     "metadata": {},
     "output_type": "execute_result"
    }
   ],
   "source": [
    "bag_tree = BaggingClassifier(base_estimator=tree_best, n_estimators=10, random_state=21, n_jobs=-1)\n",
    "bag_tree.fit(X3_train, y3_train)\n",
    "precision_score(y3_train, bag_tree.predict(X3_train), average='weighted')"
   ]
  },
  {
   "cell_type": "code",
   "execution_count": 106,
   "id": "afbce634",
   "metadata": {},
   "outputs": [
    {
     "data": {
      "text/plain": [
       "0.8963039206598062"
      ]
     },
     "execution_count": 106,
     "metadata": {},
     "output_type": "execute_result"
    }
   ],
   "source": [
    "bag_rf = BaggingClassifier(base_estimator=forest_best, n_estimators=20, random_state=21)\n",
    "bag_rf.fit(X3_train, y3_train)\n",
    "precision_score(y3_train, bag_rf.predict(X3_train), average='weighted')"
   ]
  },
  {
   "cell_type": "code",
   "execution_count": 107,
   "id": "5d27b04c",
   "metadata": {},
   "outputs": [
    {
     "data": {
      "text/plain": [
       "0.7606762338434495"
      ]
     },
     "execution_count": 107,
     "metadata": {},
     "output_type": "execute_result"
    }
   ],
   "source": [
    "stacking = StackingClassifier(estimators=estimators, passthrough = False,\n",
    "                      final_estimator=forest_best,\n",
    "                        cv=5, n_jobs=-1).fit(X3_train, y3_train)\n",
    "precision_score(y3_train, stacking.predict(X3_train), average='weighted')"
   ]
  },
  {
   "cell_type": "code",
   "execution_count": 108,
   "id": "0d5d180d",
   "metadata": {},
   "outputs": [
    {
     "data": {
      "text/plain": [
       "0.8146384046142833"
      ]
     },
     "execution_count": 108,
     "metadata": {},
     "output_type": "execute_result"
    }
   ],
   "source": [
    "stacking = StackingClassifier(estimators=estimators, passthrough = True,\n",
    "                      final_estimator=forest_best,\n",
    "                        cv=7, n_jobs=-1).fit(X3_train, y3_train)\n",
    "precision_score(y3_train, stacking.predict(X3_train), average='weighted')"
   ]
  },
  {
   "cell_type": "code",
   "execution_count": 109,
   "id": "4d63cc31",
   "metadata": {},
   "outputs": [
    {
     "data": {
      "text/plain": [
       "0.7035535063554375"
      ]
     },
     "execution_count": 109,
     "metadata": {},
     "output_type": "execute_result"
    }
   ],
   "source": [
    "# лучший ансамбль на тесте\n",
    "estimators = [('lr', lr_best), ('tree', tree_best), ('rfc', forest_best)]\n",
    "best_voting = VotingClassifier(estimators=estimators, weights=(1,2,3)).fit(X3_train, y3_train)\n",
    "precision_score(y3_test, best_voting.predict(X3_test), average='weighted')"
   ]
  },
  {
   "cell_type": "code",
   "execution_count": 110,
   "id": "bf8d230c",
   "metadata": {},
   "outputs": [
    {
     "name": "stdout",
     "output_type": "stream",
     "text": [
      "              precision    recall  f1-score   support\n",
      "\n",
      "         bad       0.34      0.22      0.26       334\n",
      "       great       0.82      0.93      0.87      2867\n",
      "       so-so       0.18      0.05      0.07       388\n",
      "\n",
      "    accuracy                           0.77      3589\n",
      "   macro avg       0.45      0.40      0.40      3589\n",
      "weighted avg       0.70      0.77      0.73      3589\n",
      "\n"
     ]
    }
   ],
   "source": [
    "print(classification_report(y3_test, best_voting.predict(X3_test)))"
   ]
  },
  {
   "cell_type": "markdown",
   "id": "56808233",
   "metadata": {},
   "source": [
    "### 4. Принятие решения\n",
    "\n",
    "* Примем решение о том, что лучше использовать: регрессионную модель или классификацию. Сохраним выбранную модель. Мы будем использовать ее в основной программе."
   ]
  },
  {
   "cell_type": "markdown",
   "id": "7ae5dccc",
   "metadata": {},
   "source": [
    "### лучшая модель для прогнозирования класса - классификация, random forest"
   ]
  },
  {
   "cell_type": "code",
   "execution_count": 111,
   "id": "bc7af268",
   "metadata": {},
   "outputs": [
    {
     "data": {
      "text/plain": [
       "['best_clf.joblib']"
      ]
     },
     "execution_count": 111,
     "metadata": {},
     "output_type": "execute_result"
    }
   ],
   "source": [
    "clf_forest_best = RandomForestClassifier(n_estimators=100, max_depth=160, random_state=21, max_features=120).fit(X3_train, y3_train)\n",
    "joblib.dump(clf_forest_best, \"best_clf.joblib\")"
   ]
  },
  {
   "cell_type": "markdown",
   "id": "234b6430",
   "metadata": {},
   "source": [
    "## 3.2 Пищевая ценность\n",
    "* Соберем в датафрейм всю информацию о пищевой ценности продуктов из подготовленного нами и отфильтрованного набора данных (только столбцы с продуктами). Используем для этого следующий API.\n",
    "* Конвертируем все значения в % от суточной нормы потребления. Сохраним только те ингридиенты, которые находятся в таблице nutrients_renamed.csv.\n",
    "* Сохраним измененный датафрейм в CSV-файл, который будем использовать в своей основной программе."
   ]
  },
  {
   "cell_type": "code",
   "execution_count": 112,
   "id": "14f0c509",
   "metadata": {},
   "outputs": [
    {
     "data": {
      "text/html": [
       "<div>\n",
       "<style scoped>\n",
       "    .dataframe tbody tr th:only-of-type {\n",
       "        vertical-align: middle;\n",
       "    }\n",
       "\n",
       "    .dataframe tbody tr th {\n",
       "        vertical-align: top;\n",
       "    }\n",
       "\n",
       "    .dataframe thead th {\n",
       "        text-align: right;\n",
       "    }\n",
       "</style>\n",
       "<table border=\"1\" class=\"dataframe\">\n",
       "  <thead>\n",
       "    <tr style=\"text-align: right;\">\n",
       "      <th></th>\n",
       "      <th>Nutrient initial</th>\n",
       "      <th>Nutrient_rename</th>\n",
       "      <th>daily_norm</th>\n",
       "    </tr>\n",
       "  </thead>\n",
       "  <tbody>\n",
       "    <tr>\n",
       "      <th>0</th>\n",
       "      <td>Vitamin A</td>\n",
       "      <td>Vitamin A, IU</td>\n",
       "      <td>900.0</td>\n",
       "    </tr>\n",
       "    <tr>\n",
       "      <th>1</th>\n",
       "      <td>Vitamin C</td>\n",
       "      <td>Vitamin C, total ascorbic acid</td>\n",
       "      <td>90.0</td>\n",
       "    </tr>\n",
       "    <tr>\n",
       "      <th>2</th>\n",
       "      <td>Calcium</td>\n",
       "      <td>Calcium, Ca</td>\n",
       "      <td>1300.0</td>\n",
       "    </tr>\n",
       "    <tr>\n",
       "      <th>3</th>\n",
       "      <td>Iron</td>\n",
       "      <td>Iron, Fe</td>\n",
       "      <td>18.0</td>\n",
       "    </tr>\n",
       "    <tr>\n",
       "      <th>4</th>\n",
       "      <td>Vitamin D</td>\n",
       "      <td>Vitamin D (D2 + D3)</td>\n",
       "      <td>20.0</td>\n",
       "    </tr>\n",
       "    <tr>\n",
       "      <th>5</th>\n",
       "      <td>Vitamin E</td>\n",
       "      <td>Vitamin E (alpha-tocopherol)</td>\n",
       "      <td>15.0</td>\n",
       "    </tr>\n",
       "    <tr>\n",
       "      <th>6</th>\n",
       "      <td>Vitamin K</td>\n",
       "      <td>Vitamin K (phylloquinone)</td>\n",
       "      <td>120.0</td>\n",
       "    </tr>\n",
       "    <tr>\n",
       "      <th>7</th>\n",
       "      <td>Thiamin</td>\n",
       "      <td>Thiamin</td>\n",
       "      <td>1.2</td>\n",
       "    </tr>\n",
       "    <tr>\n",
       "      <th>8</th>\n",
       "      <td>Riboflavin</td>\n",
       "      <td>Riboflavin</td>\n",
       "      <td>1.3</td>\n",
       "    </tr>\n",
       "    <tr>\n",
       "      <th>9</th>\n",
       "      <td>Niacin</td>\n",
       "      <td>Niacin</td>\n",
       "      <td>16.0</td>\n",
       "    </tr>\n",
       "    <tr>\n",
       "      <th>10</th>\n",
       "      <td>Vitamin B6</td>\n",
       "      <td>Vitamin B-6</td>\n",
       "      <td>1.7</td>\n",
       "    </tr>\n",
       "    <tr>\n",
       "      <th>11</th>\n",
       "      <td>Folate6</td>\n",
       "      <td>Folate, total</td>\n",
       "      <td>400.0</td>\n",
       "    </tr>\n",
       "    <tr>\n",
       "      <th>12</th>\n",
       "      <td>Vitamin B12</td>\n",
       "      <td>Vitamin B-12</td>\n",
       "      <td>2.4</td>\n",
       "    </tr>\n",
       "    <tr>\n",
       "      <th>13</th>\n",
       "      <td>Biotin</td>\n",
       "      <td>Biotin</td>\n",
       "      <td>30.0</td>\n",
       "    </tr>\n",
       "    <tr>\n",
       "      <th>14</th>\n",
       "      <td>Pantothenic acid</td>\n",
       "      <td>Pantothenic acid</td>\n",
       "      <td>5.0</td>\n",
       "    </tr>\n",
       "    <tr>\n",
       "      <th>15</th>\n",
       "      <td>Phosphorus</td>\n",
       "      <td>Phosphorus, P</td>\n",
       "      <td>1250.0</td>\n",
       "    </tr>\n",
       "    <tr>\n",
       "      <th>16</th>\n",
       "      <td>Iodine</td>\n",
       "      <td>Iodine, I</td>\n",
       "      <td>150.0</td>\n",
       "    </tr>\n",
       "    <tr>\n",
       "      <th>17</th>\n",
       "      <td>Magnesium</td>\n",
       "      <td>Magnesium, Mg</td>\n",
       "      <td>420.0</td>\n",
       "    </tr>\n",
       "    <tr>\n",
       "      <th>18</th>\n",
       "      <td>Zinc</td>\n",
       "      <td>Zinc, Zn</td>\n",
       "      <td>11.0</td>\n",
       "    </tr>\n",
       "    <tr>\n",
       "      <th>19</th>\n",
       "      <td>Selenium</td>\n",
       "      <td>Selenium, Se</td>\n",
       "      <td>55.0</td>\n",
       "    </tr>\n",
       "    <tr>\n",
       "      <th>20</th>\n",
       "      <td>Copper</td>\n",
       "      <td>Copper, Cu</td>\n",
       "      <td>0.9</td>\n",
       "    </tr>\n",
       "    <tr>\n",
       "      <th>21</th>\n",
       "      <td>Manganese</td>\n",
       "      <td>Manganese, Mn</td>\n",
       "      <td>2.3</td>\n",
       "    </tr>\n",
       "    <tr>\n",
       "      <th>22</th>\n",
       "      <td>Chromium</td>\n",
       "      <td>Chromium, Cr</td>\n",
       "      <td>35.0</td>\n",
       "    </tr>\n",
       "    <tr>\n",
       "      <th>23</th>\n",
       "      <td>Molybdenum</td>\n",
       "      <td>Molybdenum, Mo</td>\n",
       "      <td>45.0</td>\n",
       "    </tr>\n",
       "    <tr>\n",
       "      <th>24</th>\n",
       "      <td>Chloride</td>\n",
       "      <td>Chloride, Cl</td>\n",
       "      <td>2300.0</td>\n",
       "    </tr>\n",
       "    <tr>\n",
       "      <th>25</th>\n",
       "      <td>Potassium</td>\n",
       "      <td>Potassium, K</td>\n",
       "      <td>4700.0</td>\n",
       "    </tr>\n",
       "    <tr>\n",
       "      <th>26</th>\n",
       "      <td>Choline</td>\n",
       "      <td>Choline, total</td>\n",
       "      <td>550.0</td>\n",
       "    </tr>\n",
       "    <tr>\n",
       "      <th>27</th>\n",
       "      <td>Fat</td>\n",
       "      <td>Total lipid (fat)</td>\n",
       "      <td>78.0</td>\n",
       "    </tr>\n",
       "    <tr>\n",
       "      <th>28</th>\n",
       "      <td>Saturated fat</td>\n",
       "      <td>Fatty acids, total saturated</td>\n",
       "      <td>20.0</td>\n",
       "    </tr>\n",
       "    <tr>\n",
       "      <th>29</th>\n",
       "      <td>Cholesterol</td>\n",
       "      <td>Cholesterol</td>\n",
       "      <td>300.0</td>\n",
       "    </tr>\n",
       "    <tr>\n",
       "      <th>30</th>\n",
       "      <td>Total carbohydrates</td>\n",
       "      <td>Carbohydrate, by difference</td>\n",
       "      <td>275.0</td>\n",
       "    </tr>\n",
       "    <tr>\n",
       "      <th>31</th>\n",
       "      <td>Sodium</td>\n",
       "      <td>Sodium, Na</td>\n",
       "      <td>2300.0</td>\n",
       "    </tr>\n",
       "    <tr>\n",
       "      <th>32</th>\n",
       "      <td>Dietary Fiber</td>\n",
       "      <td>Fiber, total dietary</td>\n",
       "      <td>28.0</td>\n",
       "    </tr>\n",
       "    <tr>\n",
       "      <th>33</th>\n",
       "      <td>Protein</td>\n",
       "      <td>Protein</td>\n",
       "      <td>50.0</td>\n",
       "    </tr>\n",
       "    <tr>\n",
       "      <th>34</th>\n",
       "      <td>Added sugars</td>\n",
       "      <td>Added Sugars, total including NLEAs</td>\n",
       "      <td>50.0</td>\n",
       "    </tr>\n",
       "  </tbody>\n",
       "</table>\n",
       "</div>"
      ],
      "text/plain": [
       "       Nutrient initial                      Nutrient_rename  daily_norm\n",
       "0             Vitamin A                        Vitamin A, IU       900.0\n",
       "1             Vitamin C       Vitamin C, total ascorbic acid        90.0\n",
       "2               Calcium                          Calcium, Ca      1300.0\n",
       "3                  Iron                             Iron, Fe        18.0\n",
       "4             Vitamin D                  Vitamin D (D2 + D3)        20.0\n",
       "5             Vitamin E         Vitamin E (alpha-tocopherol)        15.0\n",
       "6             Vitamin K            Vitamin K (phylloquinone)       120.0\n",
       "7               Thiamin                              Thiamin         1.2\n",
       "8            Riboflavin                           Riboflavin         1.3\n",
       "9                Niacin                               Niacin        16.0\n",
       "10           Vitamin B6                          Vitamin B-6         1.7\n",
       "11              Folate6                        Folate, total       400.0\n",
       "12          Vitamin B12                         Vitamin B-12         2.4\n",
       "13               Biotin                               Biotin        30.0\n",
       "14     Pantothenic acid                     Pantothenic acid         5.0\n",
       "15           Phosphorus                        Phosphorus, P      1250.0\n",
       "16               Iodine                            Iodine, I       150.0\n",
       "17            Magnesium                        Magnesium, Mg       420.0\n",
       "18                 Zinc                             Zinc, Zn        11.0\n",
       "19             Selenium                         Selenium, Se        55.0\n",
       "20               Copper                           Copper, Cu         0.9\n",
       "21            Manganese                        Manganese, Mn         2.3\n",
       "22             Chromium                         Chromium, Cr        35.0\n",
       "23           Molybdenum                       Molybdenum, Mo        45.0\n",
       "24             Chloride                         Chloride, Cl      2300.0\n",
       "25            Potassium                         Potassium, K      4700.0\n",
       "26              Choline                       Choline, total       550.0\n",
       "27                  Fat                    Total lipid (fat)        78.0\n",
       "28        Saturated fat         Fatty acids, total saturated        20.0\n",
       "29          Cholesterol                          Cholesterol       300.0\n",
       "30  Total carbohydrates          Carbohydrate, by difference       275.0\n",
       "31               Sodium                           Sodium, Na      2300.0\n",
       "32        Dietary Fiber                 Fiber, total dietary        28.0\n",
       "33              Protein                              Protein        50.0\n",
       "34         Added sugars  Added Sugars, total including NLEAs        50.0"
      ]
     },
     "execution_count": 112,
     "metadata": {},
     "output_type": "execute_result"
    }
   ],
   "source": [
    "# daily norms\n",
    "nutrients_norms = pd.read_csv(\"data/nutrients_renamed.csv\")\n",
    "nutrients_norms"
   ]
  },
  {
   "cell_type": "code",
   "execution_count": 114,
   "id": "80525b4b",
   "metadata": {},
   "outputs": [
    {
     "name": "stdout",
     "output_type": "stream",
     "text": [
      "<class 'pandas.core.frame.DataFrame'>\n",
      "RangeIndex: 35 entries, 0 to 34\n",
      "Data columns (total 3 columns):\n",
      " #   Column            Non-Null Count  Dtype  \n",
      "---  ------            --------------  -----  \n",
      " 0   Nutrient initial  35 non-null     object \n",
      " 1   Nutrient_rename   35 non-null     object \n",
      " 2   daily_norm        35 non-null     float64\n",
      "dtypes: float64(1), object(2)\n",
      "memory usage: 968.0+ bytes\n"
     ]
    }
   ],
   "source": [
    "nutrients_norms.info()"
   ]
  },
  {
   "cell_type": "code",
   "execution_count": null,
   "id": "92f58b18",
   "metadata": {},
   "outputs": [],
   "source": [
    "nutr_list = []\n",
    "X_not_found = []\n",
    "for ingredient in list(df.columns):\n",
    "    api_key = 'YOUR_API_KEY'\n",
    "    headers={'User-Agent': 'Mozilla/5.0 (Macintosh; Intel Mac OS X 10_9_3) AppleWebKit/537.36 (KHTML, like Gecko) Chrome/104.0.5112.102 Safari/537.36'}\n",
    "    url = f'https://api.nal.usda.gov/fdc/v1/foods/list?query={ingredient}&api_key={api_key}'\n",
    "    try:\n",
    "        res = requests.get(url, headers=headers) \n",
    "        time.sleep(10)\n",
    "        print(ingredient,res)\n",
    "        data = res.json()[0]\n",
    "        dset = pd.DataFrame(data)\n",
    "\n",
    "        for i in range(len(dset)):\n",
    "            if dset['foodNutrients'].loc[i]['name'] in list(nutrients_norms.Nutrient_rename):\n",
    "                nutr_list.append([ingredient, dset['foodNutrients'].loc[i]['name'],dset['foodNutrients'].loc[i]['amount'] ])\n",
    "    except:\n",
    "        X_not_found.append(ingredient)\n",
    "    \n",
    "nutrients_all = pd.DataFrame(nutr_list, columns=['ingredient', 'nutrient','amount'])"
   ]
  },
  {
   "cell_type": "code",
   "execution_count": 117,
   "id": "f281b554",
   "metadata": {},
   "outputs": [
    {
     "data": {
      "text/plain": [
       "[]"
      ]
     },
     "execution_count": 117,
     "metadata": {},
     "output_type": "execute_result"
    }
   ],
   "source": [
    "X_not_found"
   ]
  },
  {
   "cell_type": "code",
   "execution_count": 122,
   "id": "6573c569",
   "metadata": {},
   "outputs": [
    {
     "data": {
      "text/html": [
       "<div>\n",
       "<style scoped>\n",
       "    .dataframe tbody tr th:only-of-type {\n",
       "        vertical-align: middle;\n",
       "    }\n",
       "\n",
       "    .dataframe tbody tr th {\n",
       "        vertical-align: top;\n",
       "    }\n",
       "\n",
       "    .dataframe thead th {\n",
       "        text-align: right;\n",
       "    }\n",
       "</style>\n",
       "<table border=\"1\" class=\"dataframe\">\n",
       "  <thead>\n",
       "    <tr style=\"text-align: right;\">\n",
       "      <th></th>\n",
       "      <th>ingredient</th>\n",
       "      <th>nutrient</th>\n",
       "      <th>amount</th>\n",
       "    </tr>\n",
       "  </thead>\n",
       "  <tbody>\n",
       "    <tr>\n",
       "      <th>0</th>\n",
       "      <td>almond</td>\n",
       "      <td>Protein</td>\n",
       "      <td>21.00</td>\n",
       "    </tr>\n",
       "    <tr>\n",
       "      <th>1</th>\n",
       "      <td>almond</td>\n",
       "      <td>Total lipid (fat)</td>\n",
       "      <td>55.50</td>\n",
       "    </tr>\n",
       "    <tr>\n",
       "      <th>2</th>\n",
       "      <td>almond</td>\n",
       "      <td>Carbohydrate, by difference</td>\n",
       "      <td>18.80</td>\n",
       "    </tr>\n",
       "    <tr>\n",
       "      <th>3</th>\n",
       "      <td>almond</td>\n",
       "      <td>Fiber, total dietary</td>\n",
       "      <td>10.30</td>\n",
       "    </tr>\n",
       "    <tr>\n",
       "      <th>4</th>\n",
       "      <td>almond</td>\n",
       "      <td>Calcium, Ca</td>\n",
       "      <td>347.00</td>\n",
       "    </tr>\n",
       "    <tr>\n",
       "      <th>...</th>\n",
       "      <td>...</td>\n",
       "      <td>...</td>\n",
       "      <td>...</td>\n",
       "    </tr>\n",
       "    <tr>\n",
       "      <th>4909</th>\n",
       "      <td>turkey</td>\n",
       "      <td>Sodium, Na</td>\n",
       "      <td>521.00</td>\n",
       "    </tr>\n",
       "    <tr>\n",
       "      <th>4910</th>\n",
       "      <td>turkey</td>\n",
       "      <td>Vitamin A, IU</td>\n",
       "      <td>530.00</td>\n",
       "    </tr>\n",
       "    <tr>\n",
       "      <th>4911</th>\n",
       "      <td>turkey</td>\n",
       "      <td>Vitamin C, total ascorbic acid</td>\n",
       "      <td>0.00</td>\n",
       "    </tr>\n",
       "    <tr>\n",
       "      <th>4912</th>\n",
       "      <td>turkey</td>\n",
       "      <td>Cholesterol</td>\n",
       "      <td>34.00</td>\n",
       "    </tr>\n",
       "    <tr>\n",
       "      <th>4913</th>\n",
       "      <td>turkey</td>\n",
       "      <td>Fatty acids, total saturated</td>\n",
       "      <td>0.42</td>\n",
       "    </tr>\n",
       "  </tbody>\n",
       "</table>\n",
       "<p>4914 rows × 3 columns</p>\n",
       "</div>"
      ],
      "text/plain": [
       "     ingredient                        nutrient  amount\n",
       "0        almond                         Protein   21.00\n",
       "1        almond               Total lipid (fat)   55.50\n",
       "2        almond     Carbohydrate, by difference   18.80\n",
       "3        almond            Fiber, total dietary   10.30\n",
       "4        almond                     Calcium, Ca  347.00\n",
       "...         ...                             ...     ...\n",
       "4909     turkey                      Sodium, Na  521.00\n",
       "4910     turkey                   Vitamin A, IU  530.00\n",
       "4911     turkey  Vitamin C, total ascorbic acid    0.00\n",
       "4912     turkey                     Cholesterol   34.00\n",
       "4913     turkey    Fatty acids, total saturated    0.42\n",
       "\n",
       "[4914 rows x 3 columns]"
      ]
     },
     "execution_count": 122,
     "metadata": {},
     "output_type": "execute_result"
    }
   ],
   "source": [
    "df_nutr"
   ]
  },
  {
   "cell_type": "code",
   "execution_count": 123,
   "id": "e1162db6",
   "metadata": {},
   "outputs": [
    {
     "data": {
      "text/html": [
       "<div>\n",
       "<style scoped>\n",
       "    .dataframe tbody tr th:only-of-type {\n",
       "        vertical-align: middle;\n",
       "    }\n",
       "\n",
       "    .dataframe tbody tr th {\n",
       "        vertical-align: top;\n",
       "    }\n",
       "\n",
       "    .dataframe thead th {\n",
       "        text-align: right;\n",
       "    }\n",
       "</style>\n",
       "<table border=\"1\" class=\"dataframe\">\n",
       "  <thead>\n",
       "    <tr style=\"text-align: right;\">\n",
       "      <th>nutrient</th>\n",
       "      <th>Biotin</th>\n",
       "      <th>Calcium, Ca</th>\n",
       "      <th>Carbohydrate, by difference</th>\n",
       "      <th>Cholesterol</th>\n",
       "      <th>Choline, total</th>\n",
       "      <th>Copper, Cu</th>\n",
       "      <th>Fatty acids, total saturated</th>\n",
       "      <th>Fiber, total dietary</th>\n",
       "      <th>Folate, total</th>\n",
       "      <th>Iron, Fe</th>\n",
       "      <th>...</th>\n",
       "      <th>Thiamin</th>\n",
       "      <th>Total lipid (fat)</th>\n",
       "      <th>Vitamin A, IU</th>\n",
       "      <th>Vitamin B-12</th>\n",
       "      <th>Vitamin B-6</th>\n",
       "      <th>Vitamin C, total ascorbic acid</th>\n",
       "      <th>Vitamin D (D2 + D3)</th>\n",
       "      <th>Vitamin E (alpha-tocopherol)</th>\n",
       "      <th>Vitamin K (phylloquinone)</th>\n",
       "      <th>Zinc, Zn</th>\n",
       "    </tr>\n",
       "    <tr>\n",
       "      <th>ingredient</th>\n",
       "      <th></th>\n",
       "      <th></th>\n",
       "      <th></th>\n",
       "      <th></th>\n",
       "      <th></th>\n",
       "      <th></th>\n",
       "      <th></th>\n",
       "      <th></th>\n",
       "      <th></th>\n",
       "      <th></th>\n",
       "      <th></th>\n",
       "      <th></th>\n",
       "      <th></th>\n",
       "      <th></th>\n",
       "      <th></th>\n",
       "      <th></th>\n",
       "      <th></th>\n",
       "      <th></th>\n",
       "      <th></th>\n",
       "      <th></th>\n",
       "      <th></th>\n",
       "    </tr>\n",
       "  </thead>\n",
       "  <tbody>\n",
       "    <tr>\n",
       "      <th>almond</th>\n",
       "      <td>0.0</td>\n",
       "      <td>347.0</td>\n",
       "      <td>18.80</td>\n",
       "      <td>0.0</td>\n",
       "      <td>52.1</td>\n",
       "      <td>0.934</td>\n",
       "      <td>6.550</td>\n",
       "      <td>10.3</td>\n",
       "      <td>53.0</td>\n",
       "      <td>3.49</td>\n",
       "      <td>...</td>\n",
       "      <td>0.041</td>\n",
       "      <td>55.50</td>\n",
       "      <td>0.0</td>\n",
       "      <td>0.00</td>\n",
       "      <td>0.103</td>\n",
       "      <td>0.0</td>\n",
       "      <td>0.0</td>\n",
       "      <td>24.20</td>\n",
       "      <td>0.0</td>\n",
       "      <td>3.29</td>\n",
       "    </tr>\n",
       "    <tr>\n",
       "      <th>anchovy</th>\n",
       "      <td>0.0</td>\n",
       "      <td>232.0</td>\n",
       "      <td>0.00</td>\n",
       "      <td>85.0</td>\n",
       "      <td>85.0</td>\n",
       "      <td>0.339</td>\n",
       "      <td>2.200</td>\n",
       "      <td>0.0</td>\n",
       "      <td>13.0</td>\n",
       "      <td>4.63</td>\n",
       "      <td>...</td>\n",
       "      <td>0.078</td>\n",
       "      <td>9.71</td>\n",
       "      <td>0.0</td>\n",
       "      <td>0.88</td>\n",
       "      <td>0.203</td>\n",
       "      <td>0.0</td>\n",
       "      <td>1.7</td>\n",
       "      <td>3.33</td>\n",
       "      <td>12.1</td>\n",
       "      <td>2.44</td>\n",
       "    </tr>\n",
       "    <tr>\n",
       "      <th>anise</th>\n",
       "      <td>0.0</td>\n",
       "      <td>646.0</td>\n",
       "      <td>50.00</td>\n",
       "      <td>0.0</td>\n",
       "      <td>0.0</td>\n",
       "      <td>0.910</td>\n",
       "      <td>0.586</td>\n",
       "      <td>14.6</td>\n",
       "      <td>10.0</td>\n",
       "      <td>37.00</td>\n",
       "      <td>...</td>\n",
       "      <td>0.340</td>\n",
       "      <td>15.90</td>\n",
       "      <td>311.0</td>\n",
       "      <td>0.00</td>\n",
       "      <td>0.650</td>\n",
       "      <td>21.0</td>\n",
       "      <td>0.0</td>\n",
       "      <td>0.00</td>\n",
       "      <td>0.0</td>\n",
       "      <td>5.30</td>\n",
       "    </tr>\n",
       "    <tr>\n",
       "      <th>apple</th>\n",
       "      <td>0.0</td>\n",
       "      <td>0.0</td>\n",
       "      <td>14.30</td>\n",
       "      <td>0.0</td>\n",
       "      <td>0.0</td>\n",
       "      <td>0.000</td>\n",
       "      <td>0.000</td>\n",
       "      <td>3.2</td>\n",
       "      <td>0.0</td>\n",
       "      <td>0.23</td>\n",
       "      <td>...</td>\n",
       "      <td>0.000</td>\n",
       "      <td>0.65</td>\n",
       "      <td>65.0</td>\n",
       "      <td>0.00</td>\n",
       "      <td>0.000</td>\n",
       "      <td>3.1</td>\n",
       "      <td>0.0</td>\n",
       "      <td>0.00</td>\n",
       "      <td>0.0</td>\n",
       "      <td>0.00</td>\n",
       "    </tr>\n",
       "    <tr>\n",
       "      <th>apricot</th>\n",
       "      <td>0.0</td>\n",
       "      <td>0.0</td>\n",
       "      <td>13.50</td>\n",
       "      <td>0.0</td>\n",
       "      <td>0.0</td>\n",
       "      <td>0.000</td>\n",
       "      <td>0.000</td>\n",
       "      <td>0.0</td>\n",
       "      <td>0.0</td>\n",
       "      <td>0.00</td>\n",
       "      <td>...</td>\n",
       "      <td>0.000</td>\n",
       "      <td>0.00</td>\n",
       "      <td>368.0</td>\n",
       "      <td>0.00</td>\n",
       "      <td>0.000</td>\n",
       "      <td>17.6</td>\n",
       "      <td>0.0</td>\n",
       "      <td>0.00</td>\n",
       "      <td>0.0</td>\n",
       "      <td>0.00</td>\n",
       "    </tr>\n",
       "    <tr>\n",
       "      <th>...</th>\n",
       "      <td>...</td>\n",
       "      <td>...</td>\n",
       "      <td>...</td>\n",
       "      <td>...</td>\n",
       "      <td>...</td>\n",
       "      <td>...</td>\n",
       "      <td>...</td>\n",
       "      <td>...</td>\n",
       "      <td>...</td>\n",
       "      <td>...</td>\n",
       "      <td>...</td>\n",
       "      <td>...</td>\n",
       "      <td>...</td>\n",
       "      <td>...</td>\n",
       "      <td>...</td>\n",
       "      <td>...</td>\n",
       "      <td>...</td>\n",
       "      <td>...</td>\n",
       "      <td>...</td>\n",
       "      <td>...</td>\n",
       "      <td>...</td>\n",
       "    </tr>\n",
       "    <tr>\n",
       "      <th>wild rice</th>\n",
       "      <td>0.0</td>\n",
       "      <td>0.0</td>\n",
       "      <td>77.80</td>\n",
       "      <td>0.0</td>\n",
       "      <td>0.0</td>\n",
       "      <td>0.000</td>\n",
       "      <td>0.000</td>\n",
       "      <td>4.4</td>\n",
       "      <td>0.0</td>\n",
       "      <td>1.60</td>\n",
       "      <td>...</td>\n",
       "      <td>0.000</td>\n",
       "      <td>1.11</td>\n",
       "      <td>0.0</td>\n",
       "      <td>0.00</td>\n",
       "      <td>0.444</td>\n",
       "      <td>0.0</td>\n",
       "      <td>0.0</td>\n",
       "      <td>0.00</td>\n",
       "      <td>0.0</td>\n",
       "      <td>3.33</td>\n",
       "    </tr>\n",
       "    <tr>\n",
       "      <th>wine</th>\n",
       "      <td>0.0</td>\n",
       "      <td>5.0</td>\n",
       "      <td>5.00</td>\n",
       "      <td>0.0</td>\n",
       "      <td>0.0</td>\n",
       "      <td>0.009</td>\n",
       "      <td>0.000</td>\n",
       "      <td>0.0</td>\n",
       "      <td>0.0</td>\n",
       "      <td>0.10</td>\n",
       "      <td>...</td>\n",
       "      <td>0.000</td>\n",
       "      <td>0.00</td>\n",
       "      <td>0.0</td>\n",
       "      <td>0.00</td>\n",
       "      <td>0.000</td>\n",
       "      <td>0.0</td>\n",
       "      <td>0.0</td>\n",
       "      <td>0.00</td>\n",
       "      <td>0.0</td>\n",
       "      <td>0.02</td>\n",
       "    </tr>\n",
       "    <tr>\n",
       "      <th>yellow squash</th>\n",
       "      <td>0.0</td>\n",
       "      <td>20.0</td>\n",
       "      <td>4.08</td>\n",
       "      <td>0.0</td>\n",
       "      <td>0.0</td>\n",
       "      <td>0.000</td>\n",
       "      <td>0.000</td>\n",
       "      <td>2.0</td>\n",
       "      <td>0.0</td>\n",
       "      <td>0.37</td>\n",
       "      <td>...</td>\n",
       "      <td>0.000</td>\n",
       "      <td>0.00</td>\n",
       "      <td>306.0</td>\n",
       "      <td>0.00</td>\n",
       "      <td>0.000</td>\n",
       "      <td>18.4</td>\n",
       "      <td>0.0</td>\n",
       "      <td>0.00</td>\n",
       "      <td>0.0</td>\n",
       "      <td>0.00</td>\n",
       "    </tr>\n",
       "    <tr>\n",
       "      <th>yogurt</th>\n",
       "      <td>0.0</td>\n",
       "      <td>118.0</td>\n",
       "      <td>15.90</td>\n",
       "      <td>12.0</td>\n",
       "      <td>0.0</td>\n",
       "      <td>0.000</td>\n",
       "      <td>1.760</td>\n",
       "      <td>0.0</td>\n",
       "      <td>0.0</td>\n",
       "      <td>0.00</td>\n",
       "      <td>...</td>\n",
       "      <td>0.000</td>\n",
       "      <td>2.94</td>\n",
       "      <td>59.0</td>\n",
       "      <td>0.00</td>\n",
       "      <td>0.000</td>\n",
       "      <td>0.7</td>\n",
       "      <td>0.0</td>\n",
       "      <td>0.00</td>\n",
       "      <td>0.0</td>\n",
       "      <td>0.00</td>\n",
       "    </tr>\n",
       "    <tr>\n",
       "      <th>zucchini</th>\n",
       "      <td>0.0</td>\n",
       "      <td>21.0</td>\n",
       "      <td>4.21</td>\n",
       "      <td>0.0</td>\n",
       "      <td>0.0</td>\n",
       "      <td>0.000</td>\n",
       "      <td>0.000</td>\n",
       "      <td>1.1</td>\n",
       "      <td>0.0</td>\n",
       "      <td>0.44</td>\n",
       "      <td>...</td>\n",
       "      <td>0.000</td>\n",
       "      <td>0.00</td>\n",
       "      <td>0.0</td>\n",
       "      <td>0.00</td>\n",
       "      <td>0.000</td>\n",
       "      <td>12.6</td>\n",
       "      <td>0.0</td>\n",
       "      <td>0.00</td>\n",
       "      <td>0.0</td>\n",
       "      <td>0.00</td>\n",
       "    </tr>\n",
       "  </tbody>\n",
       "</table>\n",
       "<p>288 rows × 31 columns</p>\n",
       "</div>"
      ],
      "text/plain": [
       "nutrient       Biotin  Calcium, Ca  Carbohydrate, by difference  Cholesterol  \\\n",
       "ingredient                                                                     \n",
       "almond            0.0        347.0                        18.80          0.0   \n",
       "anchovy           0.0        232.0                         0.00         85.0   \n",
       "anise             0.0        646.0                        50.00          0.0   \n",
       "apple             0.0          0.0                        14.30          0.0   \n",
       "apricot           0.0          0.0                        13.50          0.0   \n",
       "...               ...          ...                          ...          ...   \n",
       "wild rice         0.0          0.0                        77.80          0.0   \n",
       "wine              0.0          5.0                         5.00          0.0   \n",
       "yellow squash     0.0         20.0                         4.08          0.0   \n",
       "yogurt            0.0        118.0                        15.90         12.0   \n",
       "zucchini          0.0         21.0                         4.21          0.0   \n",
       "\n",
       "nutrient       Choline, total  Copper, Cu  Fatty acids, total saturated  \\\n",
       "ingredient                                                                \n",
       "almond                   52.1       0.934                         6.550   \n",
       "anchovy                  85.0       0.339                         2.200   \n",
       "anise                     0.0       0.910                         0.586   \n",
       "apple                     0.0       0.000                         0.000   \n",
       "apricot                   0.0       0.000                         0.000   \n",
       "...                       ...         ...                           ...   \n",
       "wild rice                 0.0       0.000                         0.000   \n",
       "wine                      0.0       0.009                         0.000   \n",
       "yellow squash             0.0       0.000                         0.000   \n",
       "yogurt                    0.0       0.000                         1.760   \n",
       "zucchini                  0.0       0.000                         0.000   \n",
       "\n",
       "nutrient       Fiber, total dietary  Folate, total  Iron, Fe  ...  Thiamin  \\\n",
       "ingredient                                                    ...            \n",
       "almond                         10.3           53.0      3.49  ...    0.041   \n",
       "anchovy                         0.0           13.0      4.63  ...    0.078   \n",
       "anise                          14.6           10.0     37.00  ...    0.340   \n",
       "apple                           3.2            0.0      0.23  ...    0.000   \n",
       "apricot                         0.0            0.0      0.00  ...    0.000   \n",
       "...                             ...            ...       ...  ...      ...   \n",
       "wild rice                       4.4            0.0      1.60  ...    0.000   \n",
       "wine                            0.0            0.0      0.10  ...    0.000   \n",
       "yellow squash                   2.0            0.0      0.37  ...    0.000   \n",
       "yogurt                          0.0            0.0      0.00  ...    0.000   \n",
       "zucchini                        1.1            0.0      0.44  ...    0.000   \n",
       "\n",
       "nutrient       Total lipid (fat)  Vitamin A, IU  Vitamin B-12  Vitamin B-6  \\\n",
       "ingredient                                                                   \n",
       "almond                     55.50            0.0          0.00        0.103   \n",
       "anchovy                     9.71            0.0          0.88        0.203   \n",
       "anise                      15.90          311.0          0.00        0.650   \n",
       "apple                       0.65           65.0          0.00        0.000   \n",
       "apricot                     0.00          368.0          0.00        0.000   \n",
       "...                          ...            ...           ...          ...   \n",
       "wild rice                   1.11            0.0          0.00        0.444   \n",
       "wine                        0.00            0.0          0.00        0.000   \n",
       "yellow squash               0.00          306.0          0.00        0.000   \n",
       "yogurt                      2.94           59.0          0.00        0.000   \n",
       "zucchini                    0.00            0.0          0.00        0.000   \n",
       "\n",
       "nutrient       Vitamin C, total ascorbic acid  Vitamin D (D2 + D3)  \\\n",
       "ingredient                                                           \n",
       "almond                                    0.0                  0.0   \n",
       "anchovy                                   0.0                  1.7   \n",
       "anise                                    21.0                  0.0   \n",
       "apple                                     3.1                  0.0   \n",
       "apricot                                  17.6                  0.0   \n",
       "...                                       ...                  ...   \n",
       "wild rice                                 0.0                  0.0   \n",
       "wine                                      0.0                  0.0   \n",
       "yellow squash                            18.4                  0.0   \n",
       "yogurt                                    0.7                  0.0   \n",
       "zucchini                                 12.6                  0.0   \n",
       "\n",
       "nutrient       Vitamin E (alpha-tocopherol)  Vitamin K (phylloquinone)  \\\n",
       "ingredient                                                               \n",
       "almond                                24.20                        0.0   \n",
       "anchovy                                3.33                       12.1   \n",
       "anise                                  0.00                        0.0   \n",
       "apple                                  0.00                        0.0   \n",
       "apricot                                0.00                        0.0   \n",
       "...                                     ...                        ...   \n",
       "wild rice                              0.00                        0.0   \n",
       "wine                                   0.00                        0.0   \n",
       "yellow squash                          0.00                        0.0   \n",
       "yogurt                                 0.00                        0.0   \n",
       "zucchini                               0.00                        0.0   \n",
       "\n",
       "nutrient       Zinc, Zn  \n",
       "ingredient               \n",
       "almond             3.29  \n",
       "anchovy            2.44  \n",
       "anise              5.30  \n",
       "apple              0.00  \n",
       "apricot            0.00  \n",
       "...                 ...  \n",
       "wild rice          3.33  \n",
       "wine               0.02  \n",
       "yellow squash      0.00  \n",
       "yogurt             0.00  \n",
       "zucchini           0.00  \n",
       "\n",
       "[288 rows x 31 columns]"
      ]
     },
     "execution_count": 123,
     "metadata": {},
     "output_type": "execute_result"
    }
   ],
   "source": [
    "df_fin = pd.pivot_table(df_nutr, index='ingredient', columns='nutrient', values = 'amount')\n",
    "df_fin.fillna(0, inplace=True)\n",
    "df_fin"
   ]
  },
  {
   "cell_type": "code",
   "execution_count": 124,
   "id": "b65a7abb",
   "metadata": {},
   "outputs": [
    {
     "data": {
      "text/plain": [
       "Index(['Biotin', 'Calcium, Ca', 'Carbohydrate, by difference', 'Cholesterol',\n",
       "       'Choline, total', 'Copper, Cu', 'Fatty acids, total saturated',\n",
       "       'Fiber, total dietary', 'Folate, total', 'Iron, Fe', 'Magnesium, Mg',\n",
       "       'Manganese, Mn', 'Molybdenum, Mo', 'Niacin', 'Pantothenic acid',\n",
       "       'Phosphorus, P', 'Potassium, K', 'Protein', 'Riboflavin',\n",
       "       'Selenium, Se', 'Sodium, Na', 'Thiamin', 'Total lipid (fat)',\n",
       "       'Vitamin A, IU', 'Vitamin B-12', 'Vitamin B-6',\n",
       "       'Vitamin C, total ascorbic acid', 'Vitamin D (D2 + D3)',\n",
       "       'Vitamin E (alpha-tocopherol)', 'Vitamin K (phylloquinone)',\n",
       "       'Zinc, Zn'],\n",
       "      dtype='object', name='nutrient')"
      ]
     },
     "execution_count": 124,
     "metadata": {},
     "output_type": "execute_result"
    }
   ],
   "source": [
    "df_fin.columns"
   ]
  },
  {
   "cell_type": "code",
   "execution_count": 125,
   "id": "5a88ba5f",
   "metadata": {},
   "outputs": [],
   "source": [
    "# daily norms\n",
    "norms = nutrients_norms.copy()"
   ]
  },
  {
   "cell_type": "code",
   "execution_count": 126,
   "id": "26bdf831",
   "metadata": {},
   "outputs": [],
   "source": [
    "norms.set_index('Nutrient_rename', inplace=True)"
   ]
  },
  {
   "cell_type": "code",
   "execution_count": 127,
   "id": "449eaaeb",
   "metadata": {},
   "outputs": [],
   "source": [
    "df_nutr_norms = df_fin.copy() #датасет с пищевой ценностью продуктов в % от дневной нормы"
   ]
  },
  {
   "cell_type": "code",
   "execution_count": 128,
   "id": "08eca3f6",
   "metadata": {},
   "outputs": [],
   "source": [
    "for col in df_fin.columns:\n",
    "    df_nutr_norms[col] = df_nutr_norms[col]/norms.loc[col, \"daily_norm\"]"
   ]
  },
  {
   "cell_type": "code",
   "execution_count": 129,
   "id": "1c67e5ac",
   "metadata": {},
   "outputs": [
    {
     "data": {
      "text/html": [
       "<div>\n",
       "<style scoped>\n",
       "    .dataframe tbody tr th:only-of-type {\n",
       "        vertical-align: middle;\n",
       "    }\n",
       "\n",
       "    .dataframe tbody tr th {\n",
       "        vertical-align: top;\n",
       "    }\n",
       "\n",
       "    .dataframe thead th {\n",
       "        text-align: right;\n",
       "    }\n",
       "</style>\n",
       "<table border=\"1\" class=\"dataframe\">\n",
       "  <thead>\n",
       "    <tr style=\"text-align: right;\">\n",
       "      <th>nutrient</th>\n",
       "      <th>Biotin</th>\n",
       "      <th>Calcium, Ca</th>\n",
       "      <th>Carbohydrate, by difference</th>\n",
       "      <th>Cholesterol</th>\n",
       "      <th>Choline, total</th>\n",
       "      <th>Copper, Cu</th>\n",
       "      <th>Fatty acids, total saturated</th>\n",
       "      <th>Fiber, total dietary</th>\n",
       "      <th>Folate, total</th>\n",
       "      <th>Iron, Fe</th>\n",
       "      <th>...</th>\n",
       "      <th>Thiamin</th>\n",
       "      <th>Total lipid (fat)</th>\n",
       "      <th>Vitamin A, IU</th>\n",
       "      <th>Vitamin B-12</th>\n",
       "      <th>Vitamin B-6</th>\n",
       "      <th>Vitamin C, total ascorbic acid</th>\n",
       "      <th>Vitamin D (D2 + D3)</th>\n",
       "      <th>Vitamin E (alpha-tocopherol)</th>\n",
       "      <th>Vitamin K (phylloquinone)</th>\n",
       "      <th>Zinc, Zn</th>\n",
       "    </tr>\n",
       "    <tr>\n",
       "      <th>ingredient</th>\n",
       "      <th></th>\n",
       "      <th></th>\n",
       "      <th></th>\n",
       "      <th></th>\n",
       "      <th></th>\n",
       "      <th></th>\n",
       "      <th></th>\n",
       "      <th></th>\n",
       "      <th></th>\n",
       "      <th></th>\n",
       "      <th></th>\n",
       "      <th></th>\n",
       "      <th></th>\n",
       "      <th></th>\n",
       "      <th></th>\n",
       "      <th></th>\n",
       "      <th></th>\n",
       "      <th></th>\n",
       "      <th></th>\n",
       "      <th></th>\n",
       "      <th></th>\n",
       "    </tr>\n",
       "  </thead>\n",
       "  <tbody>\n",
       "    <tr>\n",
       "      <th>almond</th>\n",
       "      <td>0.0</td>\n",
       "      <td>0.266923</td>\n",
       "      <td>0.068364</td>\n",
       "      <td>0.000000</td>\n",
       "      <td>0.094727</td>\n",
       "      <td>1.037778</td>\n",
       "      <td>0.3275</td>\n",
       "      <td>0.367857</td>\n",
       "      <td>0.1325</td>\n",
       "      <td>0.193889</td>\n",
       "      <td>...</td>\n",
       "      <td>0.034167</td>\n",
       "      <td>0.711538</td>\n",
       "      <td>0.000000</td>\n",
       "      <td>0.000000</td>\n",
       "      <td>0.060588</td>\n",
       "      <td>0.000000</td>\n",
       "      <td>0.000</td>\n",
       "      <td>1.613333</td>\n",
       "      <td>0.000000</td>\n",
       "      <td>0.299091</td>\n",
       "    </tr>\n",
       "    <tr>\n",
       "      <th>anchovy</th>\n",
       "      <td>0.0</td>\n",
       "      <td>0.178462</td>\n",
       "      <td>0.000000</td>\n",
       "      <td>0.283333</td>\n",
       "      <td>0.154545</td>\n",
       "      <td>0.376667</td>\n",
       "      <td>0.1100</td>\n",
       "      <td>0.000000</td>\n",
       "      <td>0.0325</td>\n",
       "      <td>0.257222</td>\n",
       "      <td>...</td>\n",
       "      <td>0.065000</td>\n",
       "      <td>0.124487</td>\n",
       "      <td>0.000000</td>\n",
       "      <td>0.366667</td>\n",
       "      <td>0.119412</td>\n",
       "      <td>0.000000</td>\n",
       "      <td>0.085</td>\n",
       "      <td>0.222000</td>\n",
       "      <td>0.100833</td>\n",
       "      <td>0.221818</td>\n",
       "    </tr>\n",
       "    <tr>\n",
       "      <th>anise</th>\n",
       "      <td>0.0</td>\n",
       "      <td>0.496923</td>\n",
       "      <td>0.181818</td>\n",
       "      <td>0.000000</td>\n",
       "      <td>0.000000</td>\n",
       "      <td>1.011111</td>\n",
       "      <td>0.0293</td>\n",
       "      <td>0.521429</td>\n",
       "      <td>0.0250</td>\n",
       "      <td>2.055556</td>\n",
       "      <td>...</td>\n",
       "      <td>0.283333</td>\n",
       "      <td>0.203846</td>\n",
       "      <td>0.345556</td>\n",
       "      <td>0.000000</td>\n",
       "      <td>0.382353</td>\n",
       "      <td>0.233333</td>\n",
       "      <td>0.000</td>\n",
       "      <td>0.000000</td>\n",
       "      <td>0.000000</td>\n",
       "      <td>0.481818</td>\n",
       "    </tr>\n",
       "    <tr>\n",
       "      <th>apple</th>\n",
       "      <td>0.0</td>\n",
       "      <td>0.000000</td>\n",
       "      <td>0.052000</td>\n",
       "      <td>0.000000</td>\n",
       "      <td>0.000000</td>\n",
       "      <td>0.000000</td>\n",
       "      <td>0.0000</td>\n",
       "      <td>0.114286</td>\n",
       "      <td>0.0000</td>\n",
       "      <td>0.012778</td>\n",
       "      <td>...</td>\n",
       "      <td>0.000000</td>\n",
       "      <td>0.008333</td>\n",
       "      <td>0.072222</td>\n",
       "      <td>0.000000</td>\n",
       "      <td>0.000000</td>\n",
       "      <td>0.034444</td>\n",
       "      <td>0.000</td>\n",
       "      <td>0.000000</td>\n",
       "      <td>0.000000</td>\n",
       "      <td>0.000000</td>\n",
       "    </tr>\n",
       "    <tr>\n",
       "      <th>apricot</th>\n",
       "      <td>0.0</td>\n",
       "      <td>0.000000</td>\n",
       "      <td>0.049091</td>\n",
       "      <td>0.000000</td>\n",
       "      <td>0.000000</td>\n",
       "      <td>0.000000</td>\n",
       "      <td>0.0000</td>\n",
       "      <td>0.000000</td>\n",
       "      <td>0.0000</td>\n",
       "      <td>0.000000</td>\n",
       "      <td>...</td>\n",
       "      <td>0.000000</td>\n",
       "      <td>0.000000</td>\n",
       "      <td>0.408889</td>\n",
       "      <td>0.000000</td>\n",
       "      <td>0.000000</td>\n",
       "      <td>0.195556</td>\n",
       "      <td>0.000</td>\n",
       "      <td>0.000000</td>\n",
       "      <td>0.000000</td>\n",
       "      <td>0.000000</td>\n",
       "    </tr>\n",
       "    <tr>\n",
       "      <th>...</th>\n",
       "      <td>...</td>\n",
       "      <td>...</td>\n",
       "      <td>...</td>\n",
       "      <td>...</td>\n",
       "      <td>...</td>\n",
       "      <td>...</td>\n",
       "      <td>...</td>\n",
       "      <td>...</td>\n",
       "      <td>...</td>\n",
       "      <td>...</td>\n",
       "      <td>...</td>\n",
       "      <td>...</td>\n",
       "      <td>...</td>\n",
       "      <td>...</td>\n",
       "      <td>...</td>\n",
       "      <td>...</td>\n",
       "      <td>...</td>\n",
       "      <td>...</td>\n",
       "      <td>...</td>\n",
       "      <td>...</td>\n",
       "      <td>...</td>\n",
       "    </tr>\n",
       "    <tr>\n",
       "      <th>wild rice</th>\n",
       "      <td>0.0</td>\n",
       "      <td>0.000000</td>\n",
       "      <td>0.282909</td>\n",
       "      <td>0.000000</td>\n",
       "      <td>0.000000</td>\n",
       "      <td>0.000000</td>\n",
       "      <td>0.0000</td>\n",
       "      <td>0.157143</td>\n",
       "      <td>0.0000</td>\n",
       "      <td>0.088889</td>\n",
       "      <td>...</td>\n",
       "      <td>0.000000</td>\n",
       "      <td>0.014231</td>\n",
       "      <td>0.000000</td>\n",
       "      <td>0.000000</td>\n",
       "      <td>0.261176</td>\n",
       "      <td>0.000000</td>\n",
       "      <td>0.000</td>\n",
       "      <td>0.000000</td>\n",
       "      <td>0.000000</td>\n",
       "      <td>0.302727</td>\n",
       "    </tr>\n",
       "    <tr>\n",
       "      <th>wine</th>\n",
       "      <td>0.0</td>\n",
       "      <td>0.003846</td>\n",
       "      <td>0.018182</td>\n",
       "      <td>0.000000</td>\n",
       "      <td>0.000000</td>\n",
       "      <td>0.010000</td>\n",
       "      <td>0.0000</td>\n",
       "      <td>0.000000</td>\n",
       "      <td>0.0000</td>\n",
       "      <td>0.005556</td>\n",
       "      <td>...</td>\n",
       "      <td>0.000000</td>\n",
       "      <td>0.000000</td>\n",
       "      <td>0.000000</td>\n",
       "      <td>0.000000</td>\n",
       "      <td>0.000000</td>\n",
       "      <td>0.000000</td>\n",
       "      <td>0.000</td>\n",
       "      <td>0.000000</td>\n",
       "      <td>0.000000</td>\n",
       "      <td>0.001818</td>\n",
       "    </tr>\n",
       "    <tr>\n",
       "      <th>yellow squash</th>\n",
       "      <td>0.0</td>\n",
       "      <td>0.015385</td>\n",
       "      <td>0.014836</td>\n",
       "      <td>0.000000</td>\n",
       "      <td>0.000000</td>\n",
       "      <td>0.000000</td>\n",
       "      <td>0.0000</td>\n",
       "      <td>0.071429</td>\n",
       "      <td>0.0000</td>\n",
       "      <td>0.020556</td>\n",
       "      <td>...</td>\n",
       "      <td>0.000000</td>\n",
       "      <td>0.000000</td>\n",
       "      <td>0.340000</td>\n",
       "      <td>0.000000</td>\n",
       "      <td>0.000000</td>\n",
       "      <td>0.204444</td>\n",
       "      <td>0.000</td>\n",
       "      <td>0.000000</td>\n",
       "      <td>0.000000</td>\n",
       "      <td>0.000000</td>\n",
       "    </tr>\n",
       "    <tr>\n",
       "      <th>yogurt</th>\n",
       "      <td>0.0</td>\n",
       "      <td>0.090769</td>\n",
       "      <td>0.057818</td>\n",
       "      <td>0.040000</td>\n",
       "      <td>0.000000</td>\n",
       "      <td>0.000000</td>\n",
       "      <td>0.0880</td>\n",
       "      <td>0.000000</td>\n",
       "      <td>0.0000</td>\n",
       "      <td>0.000000</td>\n",
       "      <td>...</td>\n",
       "      <td>0.000000</td>\n",
       "      <td>0.037692</td>\n",
       "      <td>0.065556</td>\n",
       "      <td>0.000000</td>\n",
       "      <td>0.000000</td>\n",
       "      <td>0.007778</td>\n",
       "      <td>0.000</td>\n",
       "      <td>0.000000</td>\n",
       "      <td>0.000000</td>\n",
       "      <td>0.000000</td>\n",
       "    </tr>\n",
       "    <tr>\n",
       "      <th>zucchini</th>\n",
       "      <td>0.0</td>\n",
       "      <td>0.016154</td>\n",
       "      <td>0.015309</td>\n",
       "      <td>0.000000</td>\n",
       "      <td>0.000000</td>\n",
       "      <td>0.000000</td>\n",
       "      <td>0.0000</td>\n",
       "      <td>0.039286</td>\n",
       "      <td>0.0000</td>\n",
       "      <td>0.024444</td>\n",
       "      <td>...</td>\n",
       "      <td>0.000000</td>\n",
       "      <td>0.000000</td>\n",
       "      <td>0.000000</td>\n",
       "      <td>0.000000</td>\n",
       "      <td>0.000000</td>\n",
       "      <td>0.140000</td>\n",
       "      <td>0.000</td>\n",
       "      <td>0.000000</td>\n",
       "      <td>0.000000</td>\n",
       "      <td>0.000000</td>\n",
       "    </tr>\n",
       "  </tbody>\n",
       "</table>\n",
       "<p>288 rows × 31 columns</p>\n",
       "</div>"
      ],
      "text/plain": [
       "nutrient       Biotin  Calcium, Ca  Carbohydrate, by difference  Cholesterol  \\\n",
       "ingredient                                                                     \n",
       "almond            0.0     0.266923                     0.068364     0.000000   \n",
       "anchovy           0.0     0.178462                     0.000000     0.283333   \n",
       "anise             0.0     0.496923                     0.181818     0.000000   \n",
       "apple             0.0     0.000000                     0.052000     0.000000   \n",
       "apricot           0.0     0.000000                     0.049091     0.000000   \n",
       "...               ...          ...                          ...          ...   \n",
       "wild rice         0.0     0.000000                     0.282909     0.000000   \n",
       "wine              0.0     0.003846                     0.018182     0.000000   \n",
       "yellow squash     0.0     0.015385                     0.014836     0.000000   \n",
       "yogurt            0.0     0.090769                     0.057818     0.040000   \n",
       "zucchini          0.0     0.016154                     0.015309     0.000000   \n",
       "\n",
       "nutrient       Choline, total  Copper, Cu  Fatty acids, total saturated  \\\n",
       "ingredient                                                                \n",
       "almond               0.094727    1.037778                        0.3275   \n",
       "anchovy              0.154545    0.376667                        0.1100   \n",
       "anise                0.000000    1.011111                        0.0293   \n",
       "apple                0.000000    0.000000                        0.0000   \n",
       "apricot              0.000000    0.000000                        0.0000   \n",
       "...                       ...         ...                           ...   \n",
       "wild rice            0.000000    0.000000                        0.0000   \n",
       "wine                 0.000000    0.010000                        0.0000   \n",
       "yellow squash        0.000000    0.000000                        0.0000   \n",
       "yogurt               0.000000    0.000000                        0.0880   \n",
       "zucchini             0.000000    0.000000                        0.0000   \n",
       "\n",
       "nutrient       Fiber, total dietary  Folate, total  Iron, Fe  ...   Thiamin  \\\n",
       "ingredient                                                    ...             \n",
       "almond                     0.367857         0.1325  0.193889  ...  0.034167   \n",
       "anchovy                    0.000000         0.0325  0.257222  ...  0.065000   \n",
       "anise                      0.521429         0.0250  2.055556  ...  0.283333   \n",
       "apple                      0.114286         0.0000  0.012778  ...  0.000000   \n",
       "apricot                    0.000000         0.0000  0.000000  ...  0.000000   \n",
       "...                             ...            ...       ...  ...       ...   \n",
       "wild rice                  0.157143         0.0000  0.088889  ...  0.000000   \n",
       "wine                       0.000000         0.0000  0.005556  ...  0.000000   \n",
       "yellow squash              0.071429         0.0000  0.020556  ...  0.000000   \n",
       "yogurt                     0.000000         0.0000  0.000000  ...  0.000000   \n",
       "zucchini                   0.039286         0.0000  0.024444  ...  0.000000   \n",
       "\n",
       "nutrient       Total lipid (fat)  Vitamin A, IU  Vitamin B-12  Vitamin B-6  \\\n",
       "ingredient                                                                   \n",
       "almond                  0.711538       0.000000      0.000000     0.060588   \n",
       "anchovy                 0.124487       0.000000      0.366667     0.119412   \n",
       "anise                   0.203846       0.345556      0.000000     0.382353   \n",
       "apple                   0.008333       0.072222      0.000000     0.000000   \n",
       "apricot                 0.000000       0.408889      0.000000     0.000000   \n",
       "...                          ...            ...           ...          ...   \n",
       "wild rice               0.014231       0.000000      0.000000     0.261176   \n",
       "wine                    0.000000       0.000000      0.000000     0.000000   \n",
       "yellow squash           0.000000       0.340000      0.000000     0.000000   \n",
       "yogurt                  0.037692       0.065556      0.000000     0.000000   \n",
       "zucchini                0.000000       0.000000      0.000000     0.000000   \n",
       "\n",
       "nutrient       Vitamin C, total ascorbic acid  Vitamin D (D2 + D3)  \\\n",
       "ingredient                                                           \n",
       "almond                               0.000000                0.000   \n",
       "anchovy                              0.000000                0.085   \n",
       "anise                                0.233333                0.000   \n",
       "apple                                0.034444                0.000   \n",
       "apricot                              0.195556                0.000   \n",
       "...                                       ...                  ...   \n",
       "wild rice                            0.000000                0.000   \n",
       "wine                                 0.000000                0.000   \n",
       "yellow squash                        0.204444                0.000   \n",
       "yogurt                               0.007778                0.000   \n",
       "zucchini                             0.140000                0.000   \n",
       "\n",
       "nutrient       Vitamin E (alpha-tocopherol)  Vitamin K (phylloquinone)  \\\n",
       "ingredient                                                               \n",
       "almond                             1.613333                   0.000000   \n",
       "anchovy                            0.222000                   0.100833   \n",
       "anise                              0.000000                   0.000000   \n",
       "apple                              0.000000                   0.000000   \n",
       "apricot                            0.000000                   0.000000   \n",
       "...                                     ...                        ...   \n",
       "wild rice                          0.000000                   0.000000   \n",
       "wine                               0.000000                   0.000000   \n",
       "yellow squash                      0.000000                   0.000000   \n",
       "yogurt                             0.000000                   0.000000   \n",
       "zucchini                           0.000000                   0.000000   \n",
       "\n",
       "nutrient       Zinc, Zn  \n",
       "ingredient               \n",
       "almond         0.299091  \n",
       "anchovy        0.221818  \n",
       "anise          0.481818  \n",
       "apple          0.000000  \n",
       "apricot        0.000000  \n",
       "...                 ...  \n",
       "wild rice      0.302727  \n",
       "wine           0.001818  \n",
       "yellow squash  0.000000  \n",
       "yogurt         0.000000  \n",
       "zucchini       0.000000  \n",
       "\n",
       "[288 rows x 31 columns]"
      ]
     },
     "execution_count": 129,
     "metadata": {},
     "output_type": "execute_result"
    }
   ],
   "source": [
    "df_nutr_norms"
   ]
  },
  {
   "cell_type": "code",
   "execution_count": 130,
   "id": "4ff12a05",
   "metadata": {},
   "outputs": [],
   "source": [
    "df_nutr_norms.to_csv('data/daily_norms.csv')"
   ]
  },
  {
   "cell_type": "code",
   "execution_count": 131,
   "id": "669824f8",
   "metadata": {},
   "outputs": [
    {
     "data": {
      "text/html": [
       "<div>\n",
       "<style scoped>\n",
       "    .dataframe tbody tr th:only-of-type {\n",
       "        vertical-align: middle;\n",
       "    }\n",
       "\n",
       "    .dataframe tbody tr th {\n",
       "        vertical-align: top;\n",
       "    }\n",
       "\n",
       "    .dataframe thead th {\n",
       "        text-align: right;\n",
       "    }\n",
       "</style>\n",
       "<table border=\"1\" class=\"dataframe\">\n",
       "  <thead>\n",
       "    <tr style=\"text-align: right;\">\n",
       "      <th></th>\n",
       "      <th>ingredient</th>\n",
       "      <th>Biotin</th>\n",
       "      <th>Calcium, Ca</th>\n",
       "      <th>Carbohydrate, by difference</th>\n",
       "      <th>Cholesterol</th>\n",
       "      <th>Choline, total</th>\n",
       "      <th>Copper, Cu</th>\n",
       "      <th>Fatty acids, total saturated</th>\n",
       "      <th>Fiber, total dietary</th>\n",
       "      <th>Folate, total</th>\n",
       "      <th>...</th>\n",
       "      <th>Thiamin</th>\n",
       "      <th>Total lipid (fat)</th>\n",
       "      <th>Vitamin A, IU</th>\n",
       "      <th>Vitamin B-12</th>\n",
       "      <th>Vitamin B-6</th>\n",
       "      <th>Vitamin C, total ascorbic acid</th>\n",
       "      <th>Vitamin D (D2 + D3)</th>\n",
       "      <th>Vitamin E (alpha-tocopherol)</th>\n",
       "      <th>Vitamin K (phylloquinone)</th>\n",
       "      <th>Zinc, Zn</th>\n",
       "    </tr>\n",
       "  </thead>\n",
       "  <tbody>\n",
       "    <tr>\n",
       "      <th>0</th>\n",
       "      <td>almond</td>\n",
       "      <td>0.0</td>\n",
       "      <td>0.266923</td>\n",
       "      <td>0.068364</td>\n",
       "      <td>0.000000</td>\n",
       "      <td>0.094727</td>\n",
       "      <td>1.037778</td>\n",
       "      <td>0.3275</td>\n",
       "      <td>0.367857</td>\n",
       "      <td>0.1325</td>\n",
       "      <td>...</td>\n",
       "      <td>0.034167</td>\n",
       "      <td>0.711538</td>\n",
       "      <td>0.000000</td>\n",
       "      <td>0.000000</td>\n",
       "      <td>0.060588</td>\n",
       "      <td>0.000000</td>\n",
       "      <td>0.000</td>\n",
       "      <td>1.613333</td>\n",
       "      <td>0.000000</td>\n",
       "      <td>0.299091</td>\n",
       "    </tr>\n",
       "    <tr>\n",
       "      <th>1</th>\n",
       "      <td>anchovy</td>\n",
       "      <td>0.0</td>\n",
       "      <td>0.178462</td>\n",
       "      <td>0.000000</td>\n",
       "      <td>0.283333</td>\n",
       "      <td>0.154545</td>\n",
       "      <td>0.376667</td>\n",
       "      <td>0.1100</td>\n",
       "      <td>0.000000</td>\n",
       "      <td>0.0325</td>\n",
       "      <td>...</td>\n",
       "      <td>0.065000</td>\n",
       "      <td>0.124487</td>\n",
       "      <td>0.000000</td>\n",
       "      <td>0.366667</td>\n",
       "      <td>0.119412</td>\n",
       "      <td>0.000000</td>\n",
       "      <td>0.085</td>\n",
       "      <td>0.222000</td>\n",
       "      <td>0.100833</td>\n",
       "      <td>0.221818</td>\n",
       "    </tr>\n",
       "    <tr>\n",
       "      <th>2</th>\n",
       "      <td>anise</td>\n",
       "      <td>0.0</td>\n",
       "      <td>0.496923</td>\n",
       "      <td>0.181818</td>\n",
       "      <td>0.000000</td>\n",
       "      <td>0.000000</td>\n",
       "      <td>1.011111</td>\n",
       "      <td>0.0293</td>\n",
       "      <td>0.521429</td>\n",
       "      <td>0.0250</td>\n",
       "      <td>...</td>\n",
       "      <td>0.283333</td>\n",
       "      <td>0.203846</td>\n",
       "      <td>0.345556</td>\n",
       "      <td>0.000000</td>\n",
       "      <td>0.382353</td>\n",
       "      <td>0.233333</td>\n",
       "      <td>0.000</td>\n",
       "      <td>0.000000</td>\n",
       "      <td>0.000000</td>\n",
       "      <td>0.481818</td>\n",
       "    </tr>\n",
       "    <tr>\n",
       "      <th>3</th>\n",
       "      <td>apple</td>\n",
       "      <td>0.0</td>\n",
       "      <td>0.000000</td>\n",
       "      <td>0.052000</td>\n",
       "      <td>0.000000</td>\n",
       "      <td>0.000000</td>\n",
       "      <td>0.000000</td>\n",
       "      <td>0.0000</td>\n",
       "      <td>0.114286</td>\n",
       "      <td>0.0000</td>\n",
       "      <td>...</td>\n",
       "      <td>0.000000</td>\n",
       "      <td>0.008333</td>\n",
       "      <td>0.072222</td>\n",
       "      <td>0.000000</td>\n",
       "      <td>0.000000</td>\n",
       "      <td>0.034444</td>\n",
       "      <td>0.000</td>\n",
       "      <td>0.000000</td>\n",
       "      <td>0.000000</td>\n",
       "      <td>0.000000</td>\n",
       "    </tr>\n",
       "    <tr>\n",
       "      <th>4</th>\n",
       "      <td>apricot</td>\n",
       "      <td>0.0</td>\n",
       "      <td>0.000000</td>\n",
       "      <td>0.049091</td>\n",
       "      <td>0.000000</td>\n",
       "      <td>0.000000</td>\n",
       "      <td>0.000000</td>\n",
       "      <td>0.0000</td>\n",
       "      <td>0.000000</td>\n",
       "      <td>0.0000</td>\n",
       "      <td>...</td>\n",
       "      <td>0.000000</td>\n",
       "      <td>0.000000</td>\n",
       "      <td>0.408889</td>\n",
       "      <td>0.000000</td>\n",
       "      <td>0.000000</td>\n",
       "      <td>0.195556</td>\n",
       "      <td>0.000</td>\n",
       "      <td>0.000000</td>\n",
       "      <td>0.000000</td>\n",
       "      <td>0.000000</td>\n",
       "    </tr>\n",
       "    <tr>\n",
       "      <th>...</th>\n",
       "      <td>...</td>\n",
       "      <td>...</td>\n",
       "      <td>...</td>\n",
       "      <td>...</td>\n",
       "      <td>...</td>\n",
       "      <td>...</td>\n",
       "      <td>...</td>\n",
       "      <td>...</td>\n",
       "      <td>...</td>\n",
       "      <td>...</td>\n",
       "      <td>...</td>\n",
       "      <td>...</td>\n",
       "      <td>...</td>\n",
       "      <td>...</td>\n",
       "      <td>...</td>\n",
       "      <td>...</td>\n",
       "      <td>...</td>\n",
       "      <td>...</td>\n",
       "      <td>...</td>\n",
       "      <td>...</td>\n",
       "      <td>...</td>\n",
       "    </tr>\n",
       "    <tr>\n",
       "      <th>283</th>\n",
       "      <td>wild rice</td>\n",
       "      <td>0.0</td>\n",
       "      <td>0.000000</td>\n",
       "      <td>0.282909</td>\n",
       "      <td>0.000000</td>\n",
       "      <td>0.000000</td>\n",
       "      <td>0.000000</td>\n",
       "      <td>0.0000</td>\n",
       "      <td>0.157143</td>\n",
       "      <td>0.0000</td>\n",
       "      <td>...</td>\n",
       "      <td>0.000000</td>\n",
       "      <td>0.014231</td>\n",
       "      <td>0.000000</td>\n",
       "      <td>0.000000</td>\n",
       "      <td>0.261176</td>\n",
       "      <td>0.000000</td>\n",
       "      <td>0.000</td>\n",
       "      <td>0.000000</td>\n",
       "      <td>0.000000</td>\n",
       "      <td>0.302727</td>\n",
       "    </tr>\n",
       "    <tr>\n",
       "      <th>284</th>\n",
       "      <td>wine</td>\n",
       "      <td>0.0</td>\n",
       "      <td>0.003846</td>\n",
       "      <td>0.018182</td>\n",
       "      <td>0.000000</td>\n",
       "      <td>0.000000</td>\n",
       "      <td>0.010000</td>\n",
       "      <td>0.0000</td>\n",
       "      <td>0.000000</td>\n",
       "      <td>0.0000</td>\n",
       "      <td>...</td>\n",
       "      <td>0.000000</td>\n",
       "      <td>0.000000</td>\n",
       "      <td>0.000000</td>\n",
       "      <td>0.000000</td>\n",
       "      <td>0.000000</td>\n",
       "      <td>0.000000</td>\n",
       "      <td>0.000</td>\n",
       "      <td>0.000000</td>\n",
       "      <td>0.000000</td>\n",
       "      <td>0.001818</td>\n",
       "    </tr>\n",
       "    <tr>\n",
       "      <th>285</th>\n",
       "      <td>yellow squash</td>\n",
       "      <td>0.0</td>\n",
       "      <td>0.015385</td>\n",
       "      <td>0.014836</td>\n",
       "      <td>0.000000</td>\n",
       "      <td>0.000000</td>\n",
       "      <td>0.000000</td>\n",
       "      <td>0.0000</td>\n",
       "      <td>0.071429</td>\n",
       "      <td>0.0000</td>\n",
       "      <td>...</td>\n",
       "      <td>0.000000</td>\n",
       "      <td>0.000000</td>\n",
       "      <td>0.340000</td>\n",
       "      <td>0.000000</td>\n",
       "      <td>0.000000</td>\n",
       "      <td>0.204444</td>\n",
       "      <td>0.000</td>\n",
       "      <td>0.000000</td>\n",
       "      <td>0.000000</td>\n",
       "      <td>0.000000</td>\n",
       "    </tr>\n",
       "    <tr>\n",
       "      <th>286</th>\n",
       "      <td>yogurt</td>\n",
       "      <td>0.0</td>\n",
       "      <td>0.090769</td>\n",
       "      <td>0.057818</td>\n",
       "      <td>0.040000</td>\n",
       "      <td>0.000000</td>\n",
       "      <td>0.000000</td>\n",
       "      <td>0.0880</td>\n",
       "      <td>0.000000</td>\n",
       "      <td>0.0000</td>\n",
       "      <td>...</td>\n",
       "      <td>0.000000</td>\n",
       "      <td>0.037692</td>\n",
       "      <td>0.065556</td>\n",
       "      <td>0.000000</td>\n",
       "      <td>0.000000</td>\n",
       "      <td>0.007778</td>\n",
       "      <td>0.000</td>\n",
       "      <td>0.000000</td>\n",
       "      <td>0.000000</td>\n",
       "      <td>0.000000</td>\n",
       "    </tr>\n",
       "    <tr>\n",
       "      <th>287</th>\n",
       "      <td>zucchini</td>\n",
       "      <td>0.0</td>\n",
       "      <td>0.016154</td>\n",
       "      <td>0.015309</td>\n",
       "      <td>0.000000</td>\n",
       "      <td>0.000000</td>\n",
       "      <td>0.000000</td>\n",
       "      <td>0.0000</td>\n",
       "      <td>0.039286</td>\n",
       "      <td>0.0000</td>\n",
       "      <td>...</td>\n",
       "      <td>0.000000</td>\n",
       "      <td>0.000000</td>\n",
       "      <td>0.000000</td>\n",
       "      <td>0.000000</td>\n",
       "      <td>0.000000</td>\n",
       "      <td>0.140000</td>\n",
       "      <td>0.000</td>\n",
       "      <td>0.000000</td>\n",
       "      <td>0.000000</td>\n",
       "      <td>0.000000</td>\n",
       "    </tr>\n",
       "  </tbody>\n",
       "</table>\n",
       "<p>288 rows × 32 columns</p>\n",
       "</div>"
      ],
      "text/plain": [
       "        ingredient  Biotin  Calcium, Ca  Carbohydrate, by difference  \\\n",
       "0           almond     0.0     0.266923                     0.068364   \n",
       "1          anchovy     0.0     0.178462                     0.000000   \n",
       "2            anise     0.0     0.496923                     0.181818   \n",
       "3            apple     0.0     0.000000                     0.052000   \n",
       "4          apricot     0.0     0.000000                     0.049091   \n",
       "..             ...     ...          ...                          ...   \n",
       "283      wild rice     0.0     0.000000                     0.282909   \n",
       "284           wine     0.0     0.003846                     0.018182   \n",
       "285  yellow squash     0.0     0.015385                     0.014836   \n",
       "286         yogurt     0.0     0.090769                     0.057818   \n",
       "287       zucchini     0.0     0.016154                     0.015309   \n",
       "\n",
       "     Cholesterol  Choline, total  Copper, Cu  Fatty acids, total saturated  \\\n",
       "0       0.000000        0.094727    1.037778                        0.3275   \n",
       "1       0.283333        0.154545    0.376667                        0.1100   \n",
       "2       0.000000        0.000000    1.011111                        0.0293   \n",
       "3       0.000000        0.000000    0.000000                        0.0000   \n",
       "4       0.000000        0.000000    0.000000                        0.0000   \n",
       "..           ...             ...         ...                           ...   \n",
       "283     0.000000        0.000000    0.000000                        0.0000   \n",
       "284     0.000000        0.000000    0.010000                        0.0000   \n",
       "285     0.000000        0.000000    0.000000                        0.0000   \n",
       "286     0.040000        0.000000    0.000000                        0.0880   \n",
       "287     0.000000        0.000000    0.000000                        0.0000   \n",
       "\n",
       "     Fiber, total dietary  Folate, total  ...   Thiamin  Total lipid (fat)  \\\n",
       "0                0.367857         0.1325  ...  0.034167           0.711538   \n",
       "1                0.000000         0.0325  ...  0.065000           0.124487   \n",
       "2                0.521429         0.0250  ...  0.283333           0.203846   \n",
       "3                0.114286         0.0000  ...  0.000000           0.008333   \n",
       "4                0.000000         0.0000  ...  0.000000           0.000000   \n",
       "..                    ...            ...  ...       ...                ...   \n",
       "283              0.157143         0.0000  ...  0.000000           0.014231   \n",
       "284              0.000000         0.0000  ...  0.000000           0.000000   \n",
       "285              0.071429         0.0000  ...  0.000000           0.000000   \n",
       "286              0.000000         0.0000  ...  0.000000           0.037692   \n",
       "287              0.039286         0.0000  ...  0.000000           0.000000   \n",
       "\n",
       "     Vitamin A, IU  Vitamin B-12  Vitamin B-6  Vitamin C, total ascorbic acid  \\\n",
       "0         0.000000      0.000000     0.060588                        0.000000   \n",
       "1         0.000000      0.366667     0.119412                        0.000000   \n",
       "2         0.345556      0.000000     0.382353                        0.233333   \n",
       "3         0.072222      0.000000     0.000000                        0.034444   \n",
       "4         0.408889      0.000000     0.000000                        0.195556   \n",
       "..             ...           ...          ...                             ...   \n",
       "283       0.000000      0.000000     0.261176                        0.000000   \n",
       "284       0.000000      0.000000     0.000000                        0.000000   \n",
       "285       0.340000      0.000000     0.000000                        0.204444   \n",
       "286       0.065556      0.000000     0.000000                        0.007778   \n",
       "287       0.000000      0.000000     0.000000                        0.140000   \n",
       "\n",
       "     Vitamin D (D2 + D3)  Vitamin E (alpha-tocopherol)  \\\n",
       "0                  0.000                      1.613333   \n",
       "1                  0.085                      0.222000   \n",
       "2                  0.000                      0.000000   \n",
       "3                  0.000                      0.000000   \n",
       "4                  0.000                      0.000000   \n",
       "..                   ...                           ...   \n",
       "283                0.000                      0.000000   \n",
       "284                0.000                      0.000000   \n",
       "285                0.000                      0.000000   \n",
       "286                0.000                      0.000000   \n",
       "287                0.000                      0.000000   \n",
       "\n",
       "     Vitamin K (phylloquinone)  Zinc, Zn  \n",
       "0                     0.000000  0.299091  \n",
       "1                     0.100833  0.221818  \n",
       "2                     0.000000  0.481818  \n",
       "3                     0.000000  0.000000  \n",
       "4                     0.000000  0.000000  \n",
       "..                         ...       ...  \n",
       "283                   0.000000  0.302727  \n",
       "284                   0.000000  0.001818  \n",
       "285                   0.000000  0.000000  \n",
       "286                   0.000000  0.000000  \n",
       "287                   0.000000  0.000000  \n",
       "\n",
       "[288 rows x 32 columns]"
      ]
     },
     "execution_count": 131,
     "metadata": {},
     "output_type": "execute_result"
    }
   ],
   "source": [
    "pd.read_csv('data/daily_norms.csv')"
   ]
  },
  {
   "cell_type": "markdown",
   "id": "7395a3f5",
   "metadata": {},
   "source": [
    "### 3.3. Похожие рецепты\n",
    "* Для каждого рецепта из набора данных найдем ссылку на сайте epicurious.com и подробную информацию о нем.\n",
    "* Сохраним новый датафрейм в CSV-файл, который будем использовать в своей основной программе."
   ]
  },
  {
   "cell_type": "code",
   "execution_count": 132,
   "id": "f92d52d6",
   "metadata": {},
   "outputs": [],
   "source": [
    "HEADERS = {'User-Agent': 'Mozilla/5.0 (Windows; U; Windows NT 5.1; en-US; rv:1.9.0.7) Firefox/3.0.7 Chrome/104.0.5112.102'}\n",
    "\n",
    "def get_all_recipes_epi(title): \n",
    "    title = title.rstrip() #удалим пробелы в конце\n",
    "    title = unidecode.unidecode(title) # remove accents (normalize) unicode string\n",
    "    title = title.replace('\"','')\n",
    "    title = title.replace('’','')\n",
    "    title = title.replace(' ', '%20') #заменим пробелы внутри на %20\n",
    "    \n",
    "    base_url = 'http://www.epicurious.com'\n",
    "    search_url_str = 'search'\n",
    "    url = f'{base_url}/{search_url_str}/{title}?content=recipe'\n",
    "\n",
    "    try:\n",
    "        soup = BeautifulSoup(request.urlopen(\n",
    "            request.Request(url, headers=HEADERS)).read(), \"html.parser\")\n",
    "\n",
    "        recipe_link_items = soup.select('div.results-group article.recipe-content-card a.view-complete-item')\n",
    "        recipe_links = [r['href'] for r in recipe_link_items]\n",
    "\n",
    "        return [(url + r) for r in recipe_links]\n",
    "    except (HTTPError, URLError):\n",
    "        return []"
   ]
  },
  {
   "cell_type": "code",
   "execution_count": null,
   "id": "2f4aa89a",
   "metadata": {},
   "outputs": [],
   "source": [
    "titles = set(df_raw['title']) #берем только уникальные title\n",
    "\n",
    "dict_recipes = {}\n",
    "not_found = []\n",
    "\n",
    "for title in titles:\n",
    "    try:\n",
    "        res = get_all_recipes_epi(title=title)\n",
    "        dict_recipes[title] = res[0]\n",
    "    except:\n",
    "        not_found.append(title)\n",
    "        dict_recipes[title] = \"It's a secret recipe! Only Yandex.Eda khows how to cook it! https://eda.yandex.ru/\"\n",
    "        print(f\"{title} is not found\")"
   ]
  },
  {
   "cell_type": "code",
   "execution_count": 141,
   "id": "fa488f2f",
   "metadata": {},
   "outputs": [],
   "source": [
    "data = pd.DataFrame(dict_recipes, index=[0]).T\n",
    "data.reset_index(inplace=True)\n",
    "data.rename(columns={'index': 'title', 0: 'url'}, inplace=True)"
   ]
  },
  {
   "cell_type": "code",
   "execution_count": 142,
   "id": "89e142f3",
   "metadata": {},
   "outputs": [],
   "source": [
    "data.to_csv('data/all_recipes.csv')"
   ]
  },
  {
   "cell_type": "markdown",
   "id": "3f836e46",
   "metadata": {},
   "source": [
    "Соберем сводный файл: title - rating - url"
   ]
  },
  {
   "cell_type": "code",
   "execution_count": 144,
   "id": "80850dc1",
   "metadata": {},
   "outputs": [],
   "source": [
    "recipes = df_raw[['title','rating']]\n",
    "recipes.drop_duplicates(['title'], keep='first', inplace=True)\n"
   ]
  },
  {
   "cell_type": "code",
   "execution_count": 149,
   "id": "5858754d",
   "metadata": {},
   "outputs": [],
   "source": [
    "data = pd.read_csv('data/all_recipes.csv')"
   ]
  },
  {
   "cell_type": "code",
   "execution_count": 151,
   "id": "6b877d06",
   "metadata": {},
   "outputs": [],
   "source": [
    "all_recipes = data.merge(recipes, how='left', left_on = 'title', right_on = 'title')\n",
    "\n",
    "all_recipes.drop('Unnamed: 0', axis=1, inplace=True)"
   ]
  },
  {
   "cell_type": "code",
   "execution_count": 152,
   "id": "aedf8d82",
   "metadata": {},
   "outputs": [],
   "source": [
    "all_recipes.to_csv('data/recipes_info.csv')"
   ]
  }
 ],
 "metadata": {
  "kernelspec": {
   "display_name": "Python 3 (ipykernel)",
   "language": "python",
   "name": "python3"
  },
  "language_info": {
   "codemirror_mode": {
    "name": "ipython",
    "version": 3
   },
   "file_extension": ".py",
   "mimetype": "text/x-python",
   "name": "python",
   "nbconvert_exporter": "python",
   "pygments_lexer": "ipython3",
   "version": "3.9.12"
  }
 },
 "nbformat": 4,
 "nbformat_minor": 5
}
